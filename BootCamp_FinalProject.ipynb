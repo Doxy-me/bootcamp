{
 "cells": [
  {
   "cell_type": "code",
   "execution_count": null,
   "id": "3843d7a1",
   "metadata": {},
   "outputs": [],
   "source": [
    "# have python be able to read an Image\n",
    "# python version 3.10 \n",
    "# using GitHub Copilot to write code\n",
    "from PIL import Image\n",
    "from pathlib import Path\n",
    "from matplotlib import pyplot as plt\n",
    "# Ensure Pillow is installed\n",
    "filename = \"image.jpeg\" #Just replaces the name of the image with file name  \n",
    "#image_path = Path(r\"\\\\ad.monash.edu\\home\\User050\\wmee0001\\Pictures\") / filename  # Use raw string for Windows UNC path\n",
    "#if image_path.exists():\n",
    "#    image = Image.open(image_path)\n",
    "#    image.show()  # This will open the image in the default image viewer\n",
    "#else:\n",
    "#    print(f\"Image file {filename} not found in the specified path.\")\n",
    "#gaussian blur\n",
    "from PIL import ImageFilter\n",
    "# Apply Gaussian blur to the image\n",
    "blurred_image = image.filter(ImageFilter.GaussianBlur(radius=7))  \n",
    "blurred_image.show()  # Show the blurred image\n",
    "blurred_image.save(image_path.with_name(\"blurred_\" + filename))  # Save the blurred image with a new name\n",
    "#greyscale histogram from the image\n",
    "#read the greyscale image\n",
    "import numpy as np\n",
    "# convert shades of grey to a histogram\n",
    "# Convert the blurred image to grayscale and then to a numpy array\n",
    "gray_blurred_image = blurred_image.convert(\"L\")\n",
    "image_array = np.array(gray_blurred_image)\n",
    "# Calculate the histogram of pixel values (0-255)\n",
    "histogram, _ = np.histogram(image_array.flatten(), bins=256, range=(0, 255))\n",
    "# Plot the histogram using matplotlib\n",
    "plt.figure(figsize=(10, 5))\n",
    "# Use a colormap to represent shades of grey for each bar\n",
    "colors = [str(i / 255) for i in range(256)]  # grayscale colors from black (0) to white (1)\n",
    "plt.bar(range(256), histogram, color=colors, width=1)\n",
    "plt.title('Grayscale Histogram')\n",
    "plt.xlabel('Pixel Value')\n",
    "plt.ylabel('Frequency')\n",
    "plt.xlim([0, 255])\n",
    "plt.show()"
   ]
  }
 ],
 "metadata": {
  "language_info": {
   "name": "python"
  }
 },
 "nbformat": 4,
 "nbformat_minor": 5
}
