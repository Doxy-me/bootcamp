{
 "cells": [
  {
   "cell_type": "code",
   "execution_count": 1,
   "metadata": {},
   "outputs": [
    {
     "name": "stdout",
     "output_type": "stream",
     "text": [
      "Hello, World!\n"
     ]
    }
   ],
   "source": [
    "#This is a trial to see if I can get the code to work\n",
    "print(\"Hello, World!\")"
   ]
  },
  {
   "cell_type": "markdown",
   "metadata": {},
   "source": [
    "# provide an example of using boolean logic in \n",
    "## Example of boolean logic\n",
    "a = 10\n",
    "b = 20\n",
    "\n",
    "## Using AND operator\n",
    "if a > 5 and b > 15:\n",
    "    print(\"Both conditions are True\")\n",
    "\n",
    "## Using OR operator\n",
    "if a > 15 or b > 15:\n",
    "    print(\"At least one condition is True\")\n",
    "\n",
    "## Using NOT operator\n",
    "if not a > 15:\n",
    "    print(\"Condition is False, so NOT makes it True\")\n",
    "    a=30\n"
   ]
  },
  {
   "cell_type": "code",
   "execution_count": null,
   "metadata": {},
   "outputs": [
    {
     "name": "stdout",
     "output_type": "stream",
     "text": [
      "Both conditions are True\n",
      "At least one condition is True\n",
      "Condition is False, so NOT makes it True\n"
     ]
    }
   ],
   "source": [
    "# Example of boolean logic\n",
    "a = 10\n",
    "b = 20\n",
    "\n",
    "# Using AND operator\n",
    "if a > 5 and b > 15:\n",
    "    print(\"Both conditions are True\")\n",
    "\n",
    "# Using OR operator\n",
    "if a > 15 or b > 15:\n",
    "    print(\"At least one condition is True\")\n",
    "\n",
    "# Using NOT operator\n",
    "if not a > 15:\n",
    "    print(\"Condition is False, so NOT makes it True\")\n",
    "    a=30\n"
   ]
  },
  {
   "cell_type": "code",
   "execution_count": 6,
   "metadata": {},
   "outputs": [
    {
     "name": "stdout",
     "output_type": "stream",
     "text": [
      "A is greater than B\n",
      "A is greater than B\n",
      "A is not equal to B\n"
     ]
    }
   ],
   "source": [
    "A = 20\n",
    "B = 2\n",
    "\n",
    "if A > B:\n",
    "    print(\"A is greater than B\")\n",
    "else:\n",
    "    print(\"B is greater than A\")\n",
    "\n",
    "if A <= B:\n",
    "    print(\"A is less than or equal to B\")\n",
    "else:\n",
    "    print(\"A is greater than B\")\n",
    "\n",
    "if not A == B:\n",
    "    print(\"A is not equal to B\")\n",
    "else:\n",
    "    print(\"A is equal to B\")"
   ]
  },
  {
   "cell_type": "code",
   "execution_count": 7,
   "metadata": {},
   "outputs": [
    {
     "name": "stdout",
     "output_type": "stream",
     "text": [
      "Count is: 0\n",
      "Count is: 1\n",
      "Count is: 2\n",
      "Count is: 3\n",
      "Count is: 4\n"
     ]
    }
   ],
   "source": [
    "# Example of using a while loop\n",
    "count = 0\n",
    "while count < 5:\n",
    "    print(\"Count is:\", count)\n",
    "    count += 1"
   ]
  },
  {
   "cell_type": "markdown",
   "metadata": {},
   "source": [
    "# Guessing game   \n"
   ]
  },
  {
   "cell_type": "code",
   "execution_count": 9,
   "metadata": {},
   "outputs": [
    {
     "name": "stdout",
     "output_type": "stream",
     "text": [
      "Collecting jupyter_contrib_nbextensions\n",
      "  Downloading jupyter_contrib_nbextensions-0.7.0.tar.gz (23.5 MB)\n",
      "     ---------------------------------------- 0.0/23.5 MB ? eta -:--:--\n",
      "     ------ --------------------------------- 3.9/23.5 MB 21.3 MB/s eta 0:00:01\n",
      "     ------------ --------------------------- 7.1/23.5 MB 18.2 MB/s eta 0:00:01\n",
      "     --------------- ------------------------ 8.9/23.5 MB 14.6 MB/s eta 0:00:01\n",
      "     ----------------- --------------------- 10.7/23.5 MB 12.7 MB/s eta 0:00:02\n",
      "     ------------------- ------------------- 11.8/23.5 MB 11.2 MB/s eta 0:00:02\n",
      "     ---------------------- ---------------- 13.4/23.5 MB 10.5 MB/s eta 0:00:01\n",
      "     ------------------------- ------------- 15.5/23.5 MB 10.5 MB/s eta 0:00:01\n",
      "     ----------------------------- ---------- 17.0/23.5 MB 9.9 MB/s eta 0:00:01\n",
      "     ------------------------------- -------- 18.6/23.5 MB 9.8 MB/s eta 0:00:01\n",
      "     ---------------------------------- ----- 20.4/23.5 MB 9.7 MB/s eta 0:00:01\n",
      "     ------------------------------------- -- 22.0/23.5 MB 9.4 MB/s eta 0:00:01\n",
      "     ---------------------------------------  23.3/23.5 MB 9.3 MB/s eta 0:00:01\n",
      "     ---------------------------------------  23.3/23.5 MB 9.3 MB/s eta 0:00:01\n",
      "     ---------------------------------------- 23.5/23.5 MB 8.2 MB/s eta 0:00:00\n",
      "  Preparing metadata (setup.py): started\n",
      "  Preparing metadata (setup.py): finished with status 'done'\n",
      "Collecting ipython_genutils (from jupyter_contrib_nbextensions)\n",
      "  Downloading ipython_genutils-0.2.0-py2.py3-none-any.whl.metadata (755 bytes)\n",
      "Collecting jupyter_contrib_core>=0.3.3 (from jupyter_contrib_nbextensions)\n",
      "  Downloading jupyter_contrib_core-0.4.2.tar.gz (17 kB)\n",
      "  Preparing metadata (setup.py): started\n",
      "  Preparing metadata (setup.py): finished with status 'done'\n",
      "Requirement already satisfied: jupyter_core in c:\\users\\wmee0001\\appdata\\local\\anaconda3\\envs\\boot_camp1\\lib\\site-packages (from jupyter_contrib_nbextensions) (5.7.2)\n",
      "Collecting jupyter_highlight_selected_word>=0.1.1 (from jupyter_contrib_nbextensions)\n",
      "  Downloading jupyter_highlight_selected_word-0.2.0-py2.py3-none-any.whl.metadata (730 bytes)\n",
      "Collecting jupyter_nbextensions_configurator>=0.4.0 (from jupyter_contrib_nbextensions)\n",
      "  Downloading jupyter_nbextensions_configurator-0.6.4-py2.py3-none-any.whl.metadata (1.8 kB)\n",
      "Requirement already satisfied: nbconvert>=6.0 in c:\\users\\wmee0001\\appdata\\local\\anaconda3\\envs\\boot_camp1\\lib\\site-packages (from jupyter_contrib_nbextensions) (7.16.6)\n",
      "Requirement already satisfied: notebook>=6.0 in c:\\users\\wmee0001\\appdata\\local\\anaconda3\\envs\\boot_camp1\\lib\\site-packages (from jupyter_contrib_nbextensions) (7.3.2)\n",
      "Requirement already satisfied: tornado in c:\\users\\wmee0001\\appdata\\local\\anaconda3\\envs\\boot_camp1\\lib\\site-packages (from jupyter_contrib_nbextensions) (6.4.2)\n",
      "Requirement already satisfied: traitlets>=4.1 in c:\\users\\wmee0001\\appdata\\local\\anaconda3\\envs\\boot_camp1\\lib\\site-packages (from jupyter_contrib_nbextensions) (5.14.3)\n",
      "Collecting lxml (from jupyter_contrib_nbextensions)\n",
      "  Downloading lxml-5.3.1-cp310-cp310-win_amd64.whl.metadata (3.8 kB)\n",
      "Requirement already satisfied: setuptools in c:\\users\\wmee0001\\appdata\\local\\anaconda3\\envs\\boot_camp1\\lib\\site-packages (from jupyter_contrib_core>=0.3.3->jupyter_contrib_nbextensions) (75.8.0)\n",
      "Requirement already satisfied: jupyter-server in c:\\users\\wmee0001\\appdata\\local\\anaconda3\\envs\\boot_camp1\\lib\\site-packages (from jupyter_nbextensions_configurator>=0.4.0->jupyter_contrib_nbextensions) (2.15.0)\n",
      "Requirement already satisfied: pyyaml in c:\\users\\wmee0001\\appdata\\local\\anaconda3\\envs\\boot_camp1\\lib\\site-packages (from jupyter_nbextensions_configurator>=0.4.0->jupyter_contrib_nbextensions) (6.0.2)\n",
      "Requirement already satisfied: beautifulsoup4 in c:\\users\\wmee0001\\appdata\\local\\anaconda3\\envs\\boot_camp1\\lib\\site-packages (from nbconvert>=6.0->jupyter_contrib_nbextensions) (4.12.3)\n",
      "Requirement already satisfied: bleach!=5.0.0 in c:\\users\\wmee0001\\appdata\\local\\anaconda3\\envs\\boot_camp1\\lib\\site-packages (from bleach[css]!=5.0.0->nbconvert>=6.0->jupyter_contrib_nbextensions) (6.2.0)\n",
      "Requirement already satisfied: defusedxml in c:\\users\\wmee0001\\appdata\\local\\anaconda3\\envs\\boot_camp1\\lib\\site-packages (from nbconvert>=6.0->jupyter_contrib_nbextensions) (0.7.1)\n",
      "Requirement already satisfied: jinja2>=3.0 in c:\\users\\wmee0001\\appdata\\local\\anaconda3\\envs\\boot_camp1\\lib\\site-packages (from nbconvert>=6.0->jupyter_contrib_nbextensions) (3.1.6)\n",
      "Requirement already satisfied: jupyterlab-pygments in c:\\users\\wmee0001\\appdata\\local\\anaconda3\\envs\\boot_camp1\\lib\\site-packages (from nbconvert>=6.0->jupyter_contrib_nbextensions) (0.3.0)\n",
      "Requirement already satisfied: markupsafe>=2.0 in c:\\users\\wmee0001\\appdata\\local\\anaconda3\\envs\\boot_camp1\\lib\\site-packages (from nbconvert>=6.0->jupyter_contrib_nbextensions) (3.0.2)\n",
      "Requirement already satisfied: mistune<4,>=2.0.3 in c:\\users\\wmee0001\\appdata\\local\\anaconda3\\envs\\boot_camp1\\lib\\site-packages (from nbconvert>=6.0->jupyter_contrib_nbextensions) (3.1.2)\n",
      "Requirement already satisfied: nbclient>=0.5.0 in c:\\users\\wmee0001\\appdata\\local\\anaconda3\\envs\\boot_camp1\\lib\\site-packages (from nbconvert>=6.0->jupyter_contrib_nbextensions) (0.10.2)\n",
      "Requirement already satisfied: nbformat>=5.7 in c:\\users\\wmee0001\\appdata\\local\\anaconda3\\envs\\boot_camp1\\lib\\site-packages (from nbconvert>=6.0->jupyter_contrib_nbextensions) (5.10.4)\n",
      "Requirement already satisfied: packaging in c:\\users\\wmee0001\\appdata\\local\\anaconda3\\envs\\boot_camp1\\lib\\site-packages (from nbconvert>=6.0->jupyter_contrib_nbextensions) (24.2)\n",
      "Requirement already satisfied: pandocfilters>=1.4.1 in c:\\users\\wmee0001\\appdata\\local\\anaconda3\\envs\\boot_camp1\\lib\\site-packages (from nbconvert>=6.0->jupyter_contrib_nbextensions) (1.5.0)\n",
      "Requirement already satisfied: pygments>=2.4.1 in c:\\users\\wmee0001\\appdata\\local\\anaconda3\\envs\\boot_camp1\\lib\\site-packages (from nbconvert>=6.0->jupyter_contrib_nbextensions) (2.15.1)\n",
      "Requirement already satisfied: platformdirs>=2.5 in c:\\users\\wmee0001\\appdata\\local\\anaconda3\\envs\\boot_camp1\\lib\\site-packages (from jupyter_core->jupyter_contrib_nbextensions) (3.10.0)\n",
      "Requirement already satisfied: pywin32>=300 in c:\\users\\wmee0001\\appdata\\local\\anaconda3\\envs\\boot_camp1\\lib\\site-packages (from jupyter_core->jupyter_contrib_nbextensions) (308)\n",
      "Requirement already satisfied: jupyterlab-server<3,>=2.27.1 in c:\\users\\wmee0001\\appdata\\local\\anaconda3\\envs\\boot_camp1\\lib\\site-packages (from notebook>=6.0->jupyter_contrib_nbextensions) (2.27.3)\n",
      "Requirement already satisfied: jupyterlab<4.4,>=4.3.4 in c:\\users\\wmee0001\\appdata\\local\\anaconda3\\envs\\boot_camp1\\lib\\site-packages (from notebook>=6.0->jupyter_contrib_nbextensions) (4.3.4)\n",
      "Requirement already satisfied: notebook-shim<0.3,>=0.2 in c:\\users\\wmee0001\\appdata\\local\\anaconda3\\envs\\boot_camp1\\lib\\site-packages (from notebook>=6.0->jupyter_contrib_nbextensions) (0.2.4)\n",
      "Requirement already satisfied: webencodings in c:\\users\\wmee0001\\appdata\\local\\anaconda3\\envs\\boot_camp1\\lib\\site-packages (from bleach!=5.0.0->bleach[css]!=5.0.0->nbconvert>=6.0->jupyter_contrib_nbextensions) (0.5.1)\n",
      "Requirement already satisfied: tinycss2<1.5,>=1.1.0 in c:\\users\\wmee0001\\appdata\\local\\anaconda3\\envs\\boot_camp1\\lib\\site-packages (from bleach[css]!=5.0.0->nbconvert>=6.0->jupyter_contrib_nbextensions) (1.4.0)\n",
      "Requirement already satisfied: anyio>=3.1.0 in c:\\users\\wmee0001\\appdata\\local\\anaconda3\\envs\\boot_camp1\\lib\\site-packages (from jupyter-server->jupyter_nbextensions_configurator>=0.4.0->jupyter_contrib_nbextensions) (4.6.2)\n",
      "Requirement already satisfied: argon2-cffi>=21.1 in c:\\users\\wmee0001\\appdata\\local\\anaconda3\\envs\\boot_camp1\\lib\\site-packages (from jupyter-server->jupyter_nbextensions_configurator>=0.4.0->jupyter_contrib_nbextensions) (21.3.0)\n",
      "Requirement already satisfied: jupyter-client>=7.4.4 in c:\\users\\wmee0001\\appdata\\local\\anaconda3\\envs\\boot_camp1\\lib\\site-packages (from jupyter-server->jupyter_nbextensions_configurator>=0.4.0->jupyter_contrib_nbextensions) (8.6.3)\n",
      "Requirement already satisfied: jupyter-events>=0.11.0 in c:\\users\\wmee0001\\appdata\\local\\anaconda3\\envs\\boot_camp1\\lib\\site-packages (from jupyter-server->jupyter_nbextensions_configurator>=0.4.0->jupyter_contrib_nbextensions) (0.12.0)\n",
      "Requirement already satisfied: jupyter-server-terminals>=0.4.4 in c:\\users\\wmee0001\\appdata\\local\\anaconda3\\envs\\boot_camp1\\lib\\site-packages (from jupyter-server->jupyter_nbextensions_configurator>=0.4.0->jupyter_contrib_nbextensions) (0.4.4)\n",
      "Requirement already satisfied: overrides>=5.0 in c:\\users\\wmee0001\\appdata\\local\\anaconda3\\envs\\boot_camp1\\lib\\site-packages (from jupyter-server->jupyter_nbextensions_configurator>=0.4.0->jupyter_contrib_nbextensions) (7.4.0)\n",
      "Requirement already satisfied: prometheus-client>=0.9 in c:\\users\\wmee0001\\appdata\\local\\anaconda3\\envs\\boot_camp1\\lib\\site-packages (from jupyter-server->jupyter_nbextensions_configurator>=0.4.0->jupyter_contrib_nbextensions) (0.21.0)\n",
      "Requirement already satisfied: pywinpty>=2.0.1 in c:\\users\\wmee0001\\appdata\\local\\anaconda3\\envs\\boot_camp1\\lib\\site-packages (from jupyter-server->jupyter_nbextensions_configurator>=0.4.0->jupyter_contrib_nbextensions) (2.0.15)\n",
      "Requirement already satisfied: pyzmq>=24 in c:\\users\\wmee0001\\appdata\\local\\anaconda3\\envs\\boot_camp1\\lib\\site-packages (from jupyter-server->jupyter_nbextensions_configurator>=0.4.0->jupyter_contrib_nbextensions) (26.2.0)\n",
      "Requirement already satisfied: send2trash>=1.8.2 in c:\\users\\wmee0001\\appdata\\local\\anaconda3\\envs\\boot_camp1\\lib\\site-packages (from jupyter-server->jupyter_nbextensions_configurator>=0.4.0->jupyter_contrib_nbextensions) (1.8.2)\n",
      "Requirement already satisfied: terminado>=0.8.3 in c:\\users\\wmee0001\\appdata\\local\\anaconda3\\envs\\boot_camp1\\lib\\site-packages (from jupyter-server->jupyter_nbextensions_configurator>=0.4.0->jupyter_contrib_nbextensions) (0.17.1)\n",
      "Requirement already satisfied: websocket-client>=1.7 in c:\\users\\wmee0001\\appdata\\local\\anaconda3\\envs\\boot_camp1\\lib\\site-packages (from jupyter-server->jupyter_nbextensions_configurator>=0.4.0->jupyter_contrib_nbextensions) (1.8.0)\n",
      "Requirement already satisfied: async-lru>=1.0.0 in c:\\users\\wmee0001\\appdata\\local\\anaconda3\\envs\\boot_camp1\\lib\\site-packages (from jupyterlab<4.4,>=4.3.4->notebook>=6.0->jupyter_contrib_nbextensions) (2.0.4)\n",
      "Requirement already satisfied: httpx>=0.25.0 in c:\\users\\wmee0001\\appdata\\local\\anaconda3\\envs\\boot_camp1\\lib\\site-packages (from jupyterlab<4.4,>=4.3.4->notebook>=6.0->jupyter_contrib_nbextensions) (0.27.0)\n",
      "Requirement already satisfied: ipykernel>=6.5.0 in c:\\users\\wmee0001\\appdata\\local\\anaconda3\\envs\\boot_camp1\\lib\\site-packages (from jupyterlab<4.4,>=4.3.4->notebook>=6.0->jupyter_contrib_nbextensions) (6.29.5)\n",
      "Requirement already satisfied: jupyter-lsp>=2.0.0 in c:\\users\\wmee0001\\appdata\\local\\anaconda3\\envs\\boot_camp1\\lib\\site-packages (from jupyterlab<4.4,>=4.3.4->notebook>=6.0->jupyter_contrib_nbextensions) (2.2.0)\n",
      "Requirement already satisfied: tomli>=1.2.2 in c:\\users\\wmee0001\\appdata\\local\\anaconda3\\envs\\boot_camp1\\lib\\site-packages (from jupyterlab<4.4,>=4.3.4->notebook>=6.0->jupyter_contrib_nbextensions) (2.0.1)\n",
      "Requirement already satisfied: babel>=2.10 in c:\\users\\wmee0001\\appdata\\local\\anaconda3\\envs\\boot_camp1\\lib\\site-packages (from jupyterlab-server<3,>=2.27.1->notebook>=6.0->jupyter_contrib_nbextensions) (2.16.0)\n",
      "Requirement already satisfied: json5>=0.9.0 in c:\\users\\wmee0001\\appdata\\local\\anaconda3\\envs\\boot_camp1\\lib\\site-packages (from jupyterlab-server<3,>=2.27.1->notebook>=6.0->jupyter_contrib_nbextensions) (0.9.25)\n",
      "Requirement already satisfied: jsonschema>=4.18.0 in c:\\users\\wmee0001\\appdata\\local\\anaconda3\\envs\\boot_camp1\\lib\\site-packages (from jupyterlab-server<3,>=2.27.1->notebook>=6.0->jupyter_contrib_nbextensions) (4.23.0)\n",
      "Requirement already satisfied: requests>=2.31 in c:\\users\\wmee0001\\appdata\\local\\anaconda3\\envs\\boot_camp1\\lib\\site-packages (from jupyterlab-server<3,>=2.27.1->notebook>=6.0->jupyter_contrib_nbextensions) (2.32.3)\n",
      "Requirement already satisfied: typing-extensions in c:\\users\\wmee0001\\appdata\\local\\anaconda3\\envs\\boot_camp1\\lib\\site-packages (from mistune<4,>=2.0.3->nbconvert>=6.0->jupyter_contrib_nbextensions) (4.12.2)\n",
      "Requirement already satisfied: fastjsonschema>=2.15 in c:\\users\\wmee0001\\appdata\\local\\anaconda3\\envs\\boot_camp1\\lib\\site-packages (from nbformat>=5.7->nbconvert>=6.0->jupyter_contrib_nbextensions) (2.20.0)\n",
      "Requirement already satisfied: soupsieve>1.2 in c:\\users\\wmee0001\\appdata\\local\\anaconda3\\envs\\boot_camp1\\lib\\site-packages (from beautifulsoup4->nbconvert>=6.0->jupyter_contrib_nbextensions) (2.5)\n",
      "Requirement already satisfied: idna>=2.8 in c:\\users\\wmee0001\\appdata\\local\\anaconda3\\envs\\boot_camp1\\lib\\site-packages (from anyio>=3.1.0->jupyter-server->jupyter_nbextensions_configurator>=0.4.0->jupyter_contrib_nbextensions) (3.7)\n",
      "Requirement already satisfied: sniffio>=1.1 in c:\\users\\wmee0001\\appdata\\local\\anaconda3\\envs\\boot_camp1\\lib\\site-packages (from anyio>=3.1.0->jupyter-server->jupyter_nbextensions_configurator>=0.4.0->jupyter_contrib_nbextensions) (1.3.0)\n",
      "Requirement already satisfied: exceptiongroup>=1.0.2 in c:\\users\\wmee0001\\appdata\\local\\anaconda3\\envs\\boot_camp1\\lib\\site-packages (from anyio>=3.1.0->jupyter-server->jupyter_nbextensions_configurator>=0.4.0->jupyter_contrib_nbextensions) (1.2.0)\n",
      "Requirement already satisfied: argon2-cffi-bindings in c:\\users\\wmee0001\\appdata\\local\\anaconda3\\envs\\boot_camp1\\lib\\site-packages (from argon2-cffi>=21.1->jupyter-server->jupyter_nbextensions_configurator>=0.4.0->jupyter_contrib_nbextensions) (21.2.0)\n",
      "Requirement already satisfied: certifi in c:\\users\\wmee0001\\appdata\\local\\anaconda3\\envs\\boot_camp1\\lib\\site-packages (from httpx>=0.25.0->jupyterlab<4.4,>=4.3.4->notebook>=6.0->jupyter_contrib_nbextensions) (2025.1.31)\n",
      "Requirement already satisfied: httpcore==1.* in c:\\users\\wmee0001\\appdata\\local\\anaconda3\\envs\\boot_camp1\\lib\\site-packages (from httpx>=0.25.0->jupyterlab<4.4,>=4.3.4->notebook>=6.0->jupyter_contrib_nbextensions) (1.0.2)\n",
      "Requirement already satisfied: h11<0.15,>=0.13 in c:\\users\\wmee0001\\appdata\\local\\anaconda3\\envs\\boot_camp1\\lib\\site-packages (from httpcore==1.*->httpx>=0.25.0->jupyterlab<4.4,>=4.3.4->notebook>=6.0->jupyter_contrib_nbextensions) (0.14.0)\n",
      "Requirement already satisfied: comm>=0.1.1 in c:\\users\\wmee0001\\appdata\\local\\anaconda3\\envs\\boot_camp1\\lib\\site-packages (from ipykernel>=6.5.0->jupyterlab<4.4,>=4.3.4->notebook>=6.0->jupyter_contrib_nbextensions) (0.2.1)\n",
      "Requirement already satisfied: debugpy>=1.6.5 in c:\\users\\wmee0001\\appdata\\local\\anaconda3\\envs\\boot_camp1\\lib\\site-packages (from ipykernel>=6.5.0->jupyterlab<4.4,>=4.3.4->notebook>=6.0->jupyter_contrib_nbextensions) (1.8.11)\n",
      "Requirement already satisfied: ipython>=7.23.1 in c:\\users\\wmee0001\\appdata\\local\\anaconda3\\envs\\boot_camp1\\lib\\site-packages (from ipykernel>=6.5.0->jupyterlab<4.4,>=4.3.4->notebook>=6.0->jupyter_contrib_nbextensions) (8.30.0)\n",
      "Requirement already satisfied: matplotlib-inline>=0.1 in c:\\users\\wmee0001\\appdata\\local\\anaconda3\\envs\\boot_camp1\\lib\\site-packages (from ipykernel>=6.5.0->jupyterlab<4.4,>=4.3.4->notebook>=6.0->jupyter_contrib_nbextensions) (0.1.6)\n",
      "Requirement already satisfied: nest-asyncio in c:\\users\\wmee0001\\appdata\\local\\anaconda3\\envs\\boot_camp1\\lib\\site-packages (from ipykernel>=6.5.0->jupyterlab<4.4,>=4.3.4->notebook>=6.0->jupyter_contrib_nbextensions) (1.6.0)\n",
      "Requirement already satisfied: psutil in c:\\users\\wmee0001\\appdata\\local\\anaconda3\\envs\\boot_camp1\\lib\\site-packages (from ipykernel>=6.5.0->jupyterlab<4.4,>=4.3.4->notebook>=6.0->jupyter_contrib_nbextensions) (5.9.0)\n",
      "Requirement already satisfied: attrs>=22.2.0 in c:\\users\\wmee0001\\appdata\\local\\anaconda3\\envs\\boot_camp1\\lib\\site-packages (from jsonschema>=4.18.0->jupyterlab-server<3,>=2.27.1->notebook>=6.0->jupyter_contrib_nbextensions) (24.3.0)\n",
      "Requirement already satisfied: jsonschema-specifications>=2023.03.6 in c:\\users\\wmee0001\\appdata\\local\\anaconda3\\envs\\boot_camp1\\lib\\site-packages (from jsonschema>=4.18.0->jupyterlab-server<3,>=2.27.1->notebook>=6.0->jupyter_contrib_nbextensions) (2023.7.1)\n",
      "Requirement already satisfied: referencing>=0.28.4 in c:\\users\\wmee0001\\appdata\\local\\anaconda3\\envs\\boot_camp1\\lib\\site-packages (from jsonschema>=4.18.0->jupyterlab-server<3,>=2.27.1->notebook>=6.0->jupyter_contrib_nbextensions) (0.30.2)\n",
      "Requirement already satisfied: rpds-py>=0.7.1 in c:\\users\\wmee0001\\appdata\\local\\anaconda3\\envs\\boot_camp1\\lib\\site-packages (from jsonschema>=4.18.0->jupyterlab-server<3,>=2.27.1->notebook>=6.0->jupyter_contrib_nbextensions) (0.22.3)\n",
      "Requirement already satisfied: python-dateutil>=2.8.2 in c:\\users\\wmee0001\\appdata\\local\\anaconda3\\envs\\boot_camp1\\lib\\site-packages (from jupyter-client>=7.4.4->jupyter-server->jupyter_nbextensions_configurator>=0.4.0->jupyter_contrib_nbextensions) (2.9.0.post0)\n",
      "Requirement already satisfied: python-json-logger>=2.0.4 in c:\\users\\wmee0001\\appdata\\local\\anaconda3\\envs\\boot_camp1\\lib\\site-packages (from jupyter-events>=0.11.0->jupyter-server->jupyter_nbextensions_configurator>=0.4.0->jupyter_contrib_nbextensions) (3.2.1)\n",
      "Requirement already satisfied: rfc3339-validator in c:\\users\\wmee0001\\appdata\\local\\anaconda3\\envs\\boot_camp1\\lib\\site-packages (from jupyter-events>=0.11.0->jupyter-server->jupyter_nbextensions_configurator>=0.4.0->jupyter_contrib_nbextensions) (0.1.4)\n",
      "Requirement already satisfied: rfc3986-validator>=0.1.1 in c:\\users\\wmee0001\\appdata\\local\\anaconda3\\envs\\boot_camp1\\lib\\site-packages (from jupyter-events>=0.11.0->jupyter-server->jupyter_nbextensions_configurator>=0.4.0->jupyter_contrib_nbextensions) (0.1.1)\n",
      "Requirement already satisfied: charset-normalizer<4,>=2 in c:\\users\\wmee0001\\appdata\\local\\anaconda3\\envs\\boot_camp1\\lib\\site-packages (from requests>=2.31->jupyterlab-server<3,>=2.27.1->notebook>=6.0->jupyter_contrib_nbextensions) (3.3.2)\n",
      "Requirement already satisfied: urllib3<3,>=1.21.1 in c:\\users\\wmee0001\\appdata\\local\\anaconda3\\envs\\boot_camp1\\lib\\site-packages (from requests>=2.31->jupyterlab-server<3,>=2.27.1->notebook>=6.0->jupyter_contrib_nbextensions) (2.3.0)\n",
      "Requirement already satisfied: decorator in c:\\users\\wmee0001\\appdata\\local\\anaconda3\\envs\\boot_camp1\\lib\\site-packages (from ipython>=7.23.1->ipykernel>=6.5.0->jupyterlab<4.4,>=4.3.4->notebook>=6.0->jupyter_contrib_nbextensions) (5.1.1)\n",
      "Requirement already satisfied: jedi>=0.16 in c:\\users\\wmee0001\\appdata\\local\\anaconda3\\envs\\boot_camp1\\lib\\site-packages (from ipython>=7.23.1->ipykernel>=6.5.0->jupyterlab<4.4,>=4.3.4->notebook>=6.0->jupyter_contrib_nbextensions) (0.19.2)\n",
      "Requirement already satisfied: prompt-toolkit<3.1.0,>=3.0.41 in c:\\users\\wmee0001\\appdata\\local\\anaconda3\\envs\\boot_camp1\\lib\\site-packages (from ipython>=7.23.1->ipykernel>=6.5.0->jupyterlab<4.4,>=4.3.4->notebook>=6.0->jupyter_contrib_nbextensions) (3.0.43)\n",
      "Requirement already satisfied: stack-data in c:\\users\\wmee0001\\appdata\\local\\anaconda3\\envs\\boot_camp1\\lib\\site-packages (from ipython>=7.23.1->ipykernel>=6.5.0->jupyterlab<4.4,>=4.3.4->notebook>=6.0->jupyter_contrib_nbextensions) (0.2.0)\n",
      "Requirement already satisfied: colorama in c:\\users\\wmee0001\\appdata\\local\\anaconda3\\envs\\boot_camp1\\lib\\site-packages (from ipython>=7.23.1->ipykernel>=6.5.0->jupyterlab<4.4,>=4.3.4->notebook>=6.0->jupyter_contrib_nbextensions) (0.4.6)\n",
      "Collecting fqdn (from jsonschema[format-nongpl]>=4.18.0->jupyter-events>=0.11.0->jupyter-server->jupyter_nbextensions_configurator>=0.4.0->jupyter_contrib_nbextensions)\n",
      "  Downloading fqdn-1.5.1-py3-none-any.whl.metadata (1.4 kB)\n",
      "Collecting isoduration (from jsonschema[format-nongpl]>=4.18.0->jupyter-events>=0.11.0->jupyter-server->jupyter_nbextensions_configurator>=0.4.0->jupyter_contrib_nbextensions)\n",
      "  Downloading isoduration-20.11.0-py3-none-any.whl.metadata (5.7 kB)\n",
      "Collecting jsonpointer>1.13 (from jsonschema[format-nongpl]>=4.18.0->jupyter-events>=0.11.0->jupyter-server->jupyter_nbextensions_configurator>=0.4.0->jupyter_contrib_nbextensions)\n",
      "  Downloading jsonpointer-3.0.0-py2.py3-none-any.whl.metadata (2.3 kB)\n",
      "Collecting uri-template (from jsonschema[format-nongpl]>=4.18.0->jupyter-events>=0.11.0->jupyter-server->jupyter_nbextensions_configurator>=0.4.0->jupyter_contrib_nbextensions)\n",
      "  Downloading uri_template-1.3.0-py3-none-any.whl.metadata (8.8 kB)\n",
      "Collecting webcolors>=24.6.0 (from jsonschema[format-nongpl]>=4.18.0->jupyter-events>=0.11.0->jupyter-server->jupyter_nbextensions_configurator>=0.4.0->jupyter_contrib_nbextensions)\n",
      "  Downloading webcolors-24.11.1-py3-none-any.whl.metadata (2.2 kB)\n",
      "Requirement already satisfied: six>=1.5 in c:\\users\\wmee0001\\appdata\\local\\anaconda3\\envs\\boot_camp1\\lib\\site-packages (from python-dateutil>=2.8.2->jupyter-client>=7.4.4->jupyter-server->jupyter_nbextensions_configurator>=0.4.0->jupyter_contrib_nbextensions) (1.16.0)\n",
      "Requirement already satisfied: cffi>=1.0.1 in c:\\users\\wmee0001\\appdata\\local\\anaconda3\\envs\\boot_camp1\\lib\\site-packages (from argon2-cffi-bindings->argon2-cffi>=21.1->jupyter-server->jupyter_nbextensions_configurator>=0.4.0->jupyter_contrib_nbextensions) (1.17.1)\n",
      "Requirement already satisfied: pycparser in c:\\users\\wmee0001\\appdata\\local\\anaconda3\\envs\\boot_camp1\\lib\\site-packages (from cffi>=1.0.1->argon2-cffi-bindings->argon2-cffi>=21.1->jupyter-server->jupyter_nbextensions_configurator>=0.4.0->jupyter_contrib_nbextensions) (2.21)\n",
      "Requirement already satisfied: parso<0.9.0,>=0.8.4 in c:\\users\\wmee0001\\appdata\\local\\anaconda3\\envs\\boot_camp1\\lib\\site-packages (from jedi>=0.16->ipython>=7.23.1->ipykernel>=6.5.0->jupyterlab<4.4,>=4.3.4->notebook>=6.0->jupyter_contrib_nbextensions) (0.8.4)\n",
      "Requirement already satisfied: wcwidth in c:\\users\\wmee0001\\appdata\\local\\anaconda3\\envs\\boot_camp1\\lib\\site-packages (from prompt-toolkit<3.1.0,>=3.0.41->ipython>=7.23.1->ipykernel>=6.5.0->jupyterlab<4.4,>=4.3.4->notebook>=6.0->jupyter_contrib_nbextensions) (0.2.5)\n",
      "Collecting arrow>=0.15.0 (from isoduration->jsonschema[format-nongpl]>=4.18.0->jupyter-events>=0.11.0->jupyter-server->jupyter_nbextensions_configurator>=0.4.0->jupyter_contrib_nbextensions)\n",
      "  Downloading arrow-1.3.0-py3-none-any.whl.metadata (7.5 kB)\n",
      "Requirement already satisfied: executing in c:\\users\\wmee0001\\appdata\\local\\anaconda3\\envs\\boot_camp1\\lib\\site-packages (from stack-data->ipython>=7.23.1->ipykernel>=6.5.0->jupyterlab<4.4,>=4.3.4->notebook>=6.0->jupyter_contrib_nbextensions) (0.8.3)\n",
      "Requirement already satisfied: asttokens in c:\\users\\wmee0001\\appdata\\local\\anaconda3\\envs\\boot_camp1\\lib\\site-packages (from stack-data->ipython>=7.23.1->ipykernel>=6.5.0->jupyterlab<4.4,>=4.3.4->notebook>=6.0->jupyter_contrib_nbextensions) (2.0.5)\n",
      "Requirement already satisfied: pure-eval in c:\\users\\wmee0001\\appdata\\local\\anaconda3\\envs\\boot_camp1\\lib\\site-packages (from stack-data->ipython>=7.23.1->ipykernel>=6.5.0->jupyterlab<4.4,>=4.3.4->notebook>=6.0->jupyter_contrib_nbextensions) (0.2.2)\n",
      "Collecting types-python-dateutil>=2.8.10 (from arrow>=0.15.0->isoduration->jsonschema[format-nongpl]>=4.18.0->jupyter-events>=0.11.0->jupyter-server->jupyter_nbextensions_configurator>=0.4.0->jupyter_contrib_nbextensions)\n",
      "  Downloading types_python_dateutil-2.9.0.20241206-py3-none-any.whl.metadata (2.1 kB)\n",
      "Downloading jupyter_highlight_selected_word-0.2.0-py2.py3-none-any.whl (11 kB)\n",
      "Downloading jupyter_nbextensions_configurator-0.6.4-py2.py3-none-any.whl (466 kB)\n",
      "Downloading ipython_genutils-0.2.0-py2.py3-none-any.whl (26 kB)\n",
      "Downloading lxml-5.3.1-cp310-cp310-win_amd64.whl (3.8 MB)\n",
      "   ---------------------------------------- 0.0/3.8 MB ? eta -:--:--\n",
      "   ---------------- ----------------------- 1.6/3.8 MB 7.6 MB/s eta 0:00:01\n",
      "   --------------------------------- ------ 3.1/3.8 MB 8.8 MB/s eta 0:00:01\n",
      "   ---------------------------------------- 3.8/3.8 MB 7.3 MB/s eta 0:00:00\n",
      "Downloading jsonpointer-3.0.0-py2.py3-none-any.whl (7.6 kB)\n",
      "Downloading webcolors-24.11.1-py3-none-any.whl (14 kB)\n",
      "Downloading fqdn-1.5.1-py3-none-any.whl (9.1 kB)\n",
      "Downloading isoduration-20.11.0-py3-none-any.whl (11 kB)\n",
      "Downloading uri_template-1.3.0-py3-none-any.whl (11 kB)\n",
      "Downloading arrow-1.3.0-py3-none-any.whl (66 kB)\n",
      "Downloading types_python_dateutil-2.9.0.20241206-py3-none-any.whl (14 kB)\n",
      "Building wheels for collected packages: jupyter_contrib_nbextensions, jupyter_contrib_core\n",
      "  Building wheel for jupyter_contrib_nbextensions (setup.py): started\n",
      "  Building wheel for jupyter_contrib_nbextensions (setup.py): finished with status 'done'\n",
      "  Created wheel for jupyter_contrib_nbextensions: filename=jupyter_contrib_nbextensions-0.7.0-py2.py3-none-any.whl size=23428862 sha256=24663a3b24a8206d572a80c04a5bcd78bc79494785445ce77a9ccd3785b81397\n",
      "  Stored in directory: c:\\users\\wmee0001\\appdata\\local\\pip\\cache\\wheels\\ea\\cc\\7d\\99ef154f984726b1201c0f72cfe9c9d7c5132c1a2ae4d8677f\n",
      "  Building wheel for jupyter_contrib_core (setup.py): started\n",
      "  Building wheel for jupyter_contrib_core (setup.py): finished with status 'done'\n",
      "  Created wheel for jupyter_contrib_core: filename=jupyter_contrib_core-0.4.2-py2.py3-none-any.whl size=17555 sha256=2633a72f695b03527e003974e6d119acca5247b1166106842e5d83f8cb146a44\n",
      "  Stored in directory: c:\\users\\wmee0001\\appdata\\local\\pip\\cache\\wheels\\a9\\52\\88\\e0643cdfd68f0562087918c37dd583378648dbc3df68b907f7\n",
      "Successfully built jupyter_contrib_nbextensions jupyter_contrib_core\n",
      "Installing collected packages: jupyter_highlight_selected_word, ipython_genutils, webcolors, uri-template, types-python-dateutil, lxml, jsonpointer, fqdn, arrow, isoduration, jupyter_contrib_core, jupyter_nbextensions_configurator, jupyter_contrib_nbextensions\n",
      "Successfully installed arrow-1.3.0 fqdn-1.5.1 ipython_genutils-0.2.0 isoduration-20.11.0 jsonpointer-3.0.0 jupyter_contrib_core-0.4.2 jupyter_contrib_nbextensions-0.7.0 jupyter_highlight_selected_word-0.2.0 jupyter_nbextensions_configurator-0.6.4 lxml-5.3.1 types-python-dateutil-2.9.0.20241206 uri-template-1.3.0 webcolors-24.11.1\n"
     ]
    },
    {
     "name": "stderr",
     "output_type": "stream",
     "text": [
      "Traceback (most recent call last):\n",
      "  File \"C:\\Users\\wmee0001\\AppData\\Local\\anaconda3\\envs\\boot_camp1\\lib\\site-packages\\jupyter_contrib_core\\notebook_compat\\nbextensions.py\", line 6, in <module>\n",
      "    from notebook.extensions import BaseExtensionApp\n",
      "ModuleNotFoundError: No module named 'notebook.extensions'\n",
      "\n",
      "During handling of the above exception, another exception occurred:\n",
      "\n",
      "Traceback (most recent call last):\n",
      "  File \"C:\\Users\\wmee0001\\AppData\\Local\\anaconda3\\envs\\boot_camp1\\lib\\site-packages\\jupyter_contrib_core\\notebook_compat\\nbextensions.py\", line 10, in <module>\n",
      "    from notebook.nbextensions import BaseNBExtensionApp\n",
      "ModuleNotFoundError: No module named 'notebook.nbextensions'\n",
      "\n",
      "During handling of the above exception, another exception occurred:\n",
      "\n",
      "Traceback (most recent call last):\n",
      "  File \"C:\\Users\\wmee0001\\AppData\\Local\\anaconda3\\envs\\boot_camp1\\lib\\runpy.py\", line 196, in _run_module_as_main\n",
      "    return _run_code(code, main_globals, None,\n",
      "  File \"C:\\Users\\wmee0001\\AppData\\Local\\anaconda3\\envs\\boot_camp1\\lib\\runpy.py\", line 86, in _run_code\n",
      "    exec(code, run_globals)\n",
      "  File \"C:\\Users\\wmee0001\\AppData\\Local\\anaconda3\\envs\\boot_camp1\\Scripts\\jupyter-contrib.EXE\\__main__.py\", line 7, in <module>\n",
      "  File \"C:\\Users\\wmee0001\\AppData\\Local\\anaconda3\\envs\\boot_camp1\\lib\\site-packages\\jupyter_core\\application.py\", line 283, in launch_instance\n",
      "    super().launch_instance(argv=argv, **kwargs)\n",
      "  File \"C:\\Users\\wmee0001\\AppData\\Local\\anaconda3\\envs\\boot_camp1\\lib\\site-packages\\traitlets\\config\\application.py\", line 1073, in launch_instance\n",
      "    app = cls.instance(**kwargs)\n",
      "  File \"C:\\Users\\wmee0001\\AppData\\Local\\anaconda3\\envs\\boot_camp1\\lib\\site-packages\\traitlets\\config\\configurable.py\", line 583, in instance\n",
      "    inst = cls(*args, **kwargs)\n",
      "  File \"C:\\Users\\wmee0001\\AppData\\Local\\anaconda3\\envs\\boot_camp1\\lib\\site-packages\\jupyter_contrib_core\\application.py\", line 27, in __init__\n",
      "    self._refresh_subcommands()\n",
      "  File \"C:\\Users\\wmee0001\\AppData\\Local\\anaconda3\\envs\\boot_camp1\\lib\\site-packages\\jupyter_contrib_core\\application.py\", line 43, in _refresh_subcommands\n",
      "    get_subcommands_dict = entrypoint.load()\n",
      "  File \"C:\\Users\\wmee0001\\AppData\\Local\\anaconda3\\envs\\boot_camp1\\lib\\site-packages\\pkg_resources\\__init__.py\", line 2773, in load\n",
      "    return self.resolve()\n",
      "  File \"C:\\Users\\wmee0001\\AppData\\Local\\anaconda3\\envs\\boot_camp1\\lib\\site-packages\\pkg_resources\\__init__.py\", line 2779, in resolve\n",
      "    module = __import__(self.module_name, fromlist=['__name__'], level=0)\n",
      "  File \"C:\\Users\\wmee0001\\AppData\\Local\\anaconda3\\envs\\boot_camp1\\lib\\site-packages\\jupyter_contrib_nbextensions\\application.py\", line 7, in <module>\n",
      "    from jupyter_contrib_core.notebook_compat.nbextensions import ArgumentConflict\n",
      "  File \"C:\\Users\\wmee0001\\AppData\\Local\\anaconda3\\envs\\boot_camp1\\lib\\site-packages\\jupyter_contrib_core\\notebook_compat\\nbextensions.py\", line 12, in <module>\n",
      "    from ._compat.nbextensions import BaseNBExtensionApp\n",
      "  File \"C:\\Users\\wmee0001\\AppData\\Local\\anaconda3\\envs\\boot_camp1\\lib\\site-packages\\jupyter_contrib_core\\notebook_compat\\_compat\\nbextensions.py\", line 35, in <module>\n",
      "    from notebook.nbextensions import (\n",
      "ModuleNotFoundError: No module named 'notebook.nbextensions'\n"
     ]
    }
   ],
   "source": [
    "!pip install jupyter_contrib_nbextensions\n",
    "!jupyter contrib nbextension install --user"
   ]
  },
  {
   "cell_type": "code",
   "execution_count": null,
   "metadata": {},
   "outputs": [],
   "source": [
    "#countdown timer\n",
    "import time\n"
   ]
  },
  {
   "cell_type": "code",
   "execution_count": null,
   "metadata": {},
   "outputs": [
    {
     "name": "stdout",
     "output_type": "stream",
     "text": [
      "Welcome to the guessing game!\n",
      "Too high!\n",
      "Too high!\n",
      "Too high!\n",
      "Too high!\n",
      "Congratulations! You guessed the number 2 in 5 tries.\n"
     ]
    }
   ],
   "source": [
    "#guessing game\n",
    "#with help from ChatGPT\n",
    "from random import randint\n",
    "from IPython.display import clear_output\n",
    "guessed = False\n",
    "number = randint(1, 10)\n",
    "print(\"Welcome to the guessing game!\")\n",
    "guesses = 0\n",
    "#while Loop \n",
    "while not guessed:\n",
    "    #clear_output(wait=True)\n",
    "    user_input=int(input(\"Guess a number between 1 and 10: \"))  # Renamed variable to avoid conflict\n",
    "    guesses += 1\n",
    "    if user_input < number:\n",
    "        print(\"Too low!\")\n",
    "\n",
    "    elif user_input > number:\n",
    "        print(\"Too high!\")\n",
    "    else:\n",
    "        guessed = True\n",
    "        print(f\"Congratulations! You guessed the number {number} in {guesses} tries.\")\n"
   ]
  },
  {
   "cell_type": "markdown",
   "metadata": {},
   "source": [
    "# Chapter 2: basics Monday --> Friday"
   ]
  },
  {
   "cell_type": "code",
   "execution_count": 14,
   "metadata": {},
   "outputs": [],
   "source": [
    "#CHAPTER 2 PYTHON BASICS\n",
    "##DATA TYPES\n",
    "###INTEGERS\n",
    "a = 5 \n",
    "b = 10\n",
    "#WHOLE NUMBERS\n",
    "#FLOAT \n",
    "a = 5.5\n",
    "b = 10.2\n",
    "#DECIMAL NUMBERS\n",
    "#BOOLEAN\n",
    "a = True\n",
    "b = False\n",
    "#TRUE OR FALSE\n",
    "#STRING\n",
    "a = \"Hello\"\n",
    "b = \"World\"\n",
    "#TEXT\n",
    "#LISTS\n",
    "a = [1, 2, 3, 4, 5]\n",
    "b = [\"apple\", \"banana\", \"cherry\"]\n",
    "#COLLECTION OF ITEMS"
   ]
  },
  {
   "cell_type": "code",
   "execution_count": 15,
   "metadata": {},
   "outputs": [
    {
     "data": {
      "text/plain": [
       "int"
      ]
     },
     "execution_count": 15,
     "metadata": {},
     "output_type": "execute_result"
    }
   ],
   "source": [
    "type(7 + 3) #int"
   ]
  },
  {
   "cell_type": "code",
   "execution_count": 16,
   "metadata": {},
   "outputs": [
    {
     "data": {
      "text/plain": [
       "str"
      ]
     },
     "execution_count": 16,
     "metadata": {},
     "output_type": "execute_result"
    }
   ],
   "source": [
    "type(\"hello\")"
   ]
  },
  {
   "cell_type": "code",
   "execution_count": 17,
   "metadata": {},
   "outputs": [
    {
     "ename": "TypeError",
     "evalue": "type() takes 1 or 3 arguments",
     "output_type": "error",
     "traceback": [
      "\u001b[1;31m---------------------------------------------------------------------------\u001b[0m",
      "\u001b[1;31mTypeError\u001b[0m                                 Traceback (most recent call last)",
      "Cell \u001b[1;32mIn[17], line 1\u001b[0m\n\u001b[1;32m----> 1\u001b[0m \u001b[38;5;28;43mtype\u001b[39;49m\u001b[43m(\u001b[49m\u001b[43m)\u001b[49m\n",
      "\u001b[1;31mTypeError\u001b[0m: type() takes 1 or 3 arguments"
     ]
    }
   ],
   "source": [
    "type()"
   ]
  },
  {
   "cell_type": "code",
   "execution_count": 18,
   "metadata": {},
   "outputs": [
    {
     "name": "stdout",
     "output_type": "stream",
     "text": [
      "Help on class type in module builtins:\n",
      "\n",
      "class type(object)\n",
      " |  type(object) -> the object's type\n",
      " |  type(name, bases, dict, **kwds) -> a new type\n",
      " |  \n",
      " |  Methods defined here:\n",
      " |  \n",
      " |  __call__(self, /, *args, **kwargs)\n",
      " |      Call self as a function.\n",
      " |  \n",
      " |  __delattr__(self, name, /)\n",
      " |      Implement delattr(self, name).\n",
      " |  \n",
      " |  __dir__(self, /)\n",
      " |      Specialized __dir__ implementation for types.\n",
      " |  \n",
      " |  __getattribute__(self, name, /)\n",
      " |      Return getattr(self, name).\n",
      " |  \n",
      " |  __init__(self, /, *args, **kwargs)\n",
      " |      Initialize self.  See help(type(self)) for accurate signature.\n",
      " |  \n",
      " |  __instancecheck__(self, instance, /)\n",
      " |      Check if an object is an instance.\n",
      " |  \n",
      " |  __or__(self, value, /)\n",
      " |      Return self|value.\n",
      " |  \n",
      " |  __repr__(self, /)\n",
      " |      Return repr(self).\n",
      " |  \n",
      " |  __ror__(self, value, /)\n",
      " |      Return value|self.\n",
      " |  \n",
      " |  __setattr__(self, name, value, /)\n",
      " |      Implement setattr(self, name, value).\n",
      " |  \n",
      " |  __sizeof__(self, /)\n",
      " |      Return memory consumption of the type object.\n",
      " |  \n",
      " |  __subclasscheck__(self, subclass, /)\n",
      " |      Check if a class is a subclass.\n",
      " |  \n",
      " |  __subclasses__(self, /)\n",
      " |      Return a list of immediate subclasses.\n",
      " |  \n",
      " |  mro(self, /)\n",
      " |      Return a type's method resolution order.\n",
      " |  \n",
      " |  ----------------------------------------------------------------------\n",
      " |  Class methods defined here:\n",
      " |  \n",
      " |  __prepare__(...)\n",
      " |      __prepare__() -> dict\n",
      " |      used to create the namespace for the class statement\n",
      " |  \n",
      " |  ----------------------------------------------------------------------\n",
      " |  Static methods defined here:\n",
      " |  \n",
      " |  __new__(*args, **kwargs)\n",
      " |      Create and return a new object.  See help(type) for accurate signature.\n",
      " |  \n",
      " |  ----------------------------------------------------------------------\n",
      " |  Data descriptors defined here:\n",
      " |  \n",
      " |  __abstractmethods__\n",
      " |  \n",
      " |  __annotations__\n",
      " |  \n",
      " |  __dict__\n",
      " |  \n",
      " |  __text_signature__\n",
      " |  \n",
      " |  ----------------------------------------------------------------------\n",
      " |  Data and other attributes defined here:\n",
      " |  \n",
      " |  __base__ = <class 'object'>\n",
      " |      The base class of the class hierarchy.\n",
      " |      \n",
      " |      When called, it accepts no arguments and returns a new featureless\n",
      " |      instance that has no instance attributes and cannot be given any.\n",
      " |  \n",
      " |  \n",
      " |  __bases__ = (<class 'object'>,)\n",
      " |  \n",
      " |  __basicsize__ = 888\n",
      " |  \n",
      " |  __dictoffset__ = 264\n",
      " |  \n",
      " |  __flags__ = 2148031744\n",
      " |  \n",
      " |  __itemsize__ = 40\n",
      " |  \n",
      " |  __mro__ = (<class 'type'>, <class 'object'>)\n",
      " |  \n",
      " |  __weakrefoffset__ = 368\n",
      "\n"
     ]
    }
   ],
   "source": [
    "help(type)"
   ]
  },
  {
   "cell_type": "markdown",
   "metadata": {},
   "source": [
    "## Monday"
   ]
  },
  {
   "cell_type": "code",
   "execution_count": 19,
   "metadata": {},
   "outputs": [
    {
     "name": "stdout",
     "output_type": "stream",
     "text": [
      "John Doe\n"
     ]
    }
   ],
   "source": [
    "first_name = \"John\"\n",
    "last_name = \"Doe\"\n",
    "print(first_name + \" \" + last_name) #concatenation of strings"
   ]
  },
  {
   "cell_type": "code",
   "execution_count": 20,
   "metadata": {},
   "outputs": [
    {
     "name": "stdout",
     "output_type": "stream",
     "text": [
      "The sum is: 10.5\n"
     ]
    }
   ],
   "source": [
    "num1 = 5\n",
    "num2 = 5.5\n",
    "sum = num1 + num2\n",
    "print(\"The sum is:\", sum) #addition of int and float"
   ]
  },
  {
   "cell_type": "code",
   "execution_count": 21,
   "metadata": {},
   "outputs": [
    {
     "ename": "NameError",
     "evalue": "name 'result' is not defined",
     "output_type": "error",
     "traceback": [
      "\u001b[1;31m---------------------------------------------------------------------------\u001b[0m",
      "\u001b[1;31mNameError\u001b[0m                                 Traceback (most recent call last)",
      "Cell \u001b[1;32mIn[21], line 2\u001b[0m\n\u001b[0;32m      1\u001b[0m \u001b[38;5;66;03m#using operators on numbers\u001b[39;00m\n\u001b[1;32m----> 2\u001b[0m result \u001b[38;5;241m+\u001b[39m\u001b[38;5;241m=\u001b[39m \u001b[38;5;241m1\u001b[39m\n",
      "\u001b[1;31mNameError\u001b[0m: name 'result' is not defined"
     ]
    }
   ],
   "source": [
    "#using operators on numbers\n",
    "result += 1"
   ]
  },
  {
   "cell_type": "code",
   "execution_count": 22,
   "metadata": {},
   "outputs": [
    {
     "ename": "NameError",
     "evalue": "name 'result' is not defined",
     "output_type": "error",
     "traceback": [
      "\u001b[1;31m---------------------------------------------------------------------------\u001b[0m",
      "\u001b[1;31mNameError\u001b[0m                                 Traceback (most recent call last)",
      "Cell \u001b[1;32mIn[22], line 1\u001b[0m\n\u001b[1;32m----> 1\u001b[0m result \u001b[38;5;241m+\u001b[39m\u001b[38;5;241m=\u001b[39m \u001b[38;5;241m1\u001b[39m\n",
      "\u001b[1;31mNameError\u001b[0m: name 'result' is not defined"
     ]
    }
   ],
   "source": [
    "result += 1 #incrementing result by 1"
   ]
  },
  {
   "cell_type": "code",
   "execution_count": 24,
   "metadata": {},
   "outputs": [
    {
     "name": "stdout",
     "output_type": "stream",
     "text": [
      "1\n"
     ]
    }
   ],
   "source": [
    "result = 0  # Initialize result with a value\n",
    "result += 1 \n",
    "print(result)"
   ]
  },
  {
   "cell_type": "code",
   "execution_count": 25,
   "metadata": {},
   "outputs": [
    {
     "name": "stdout",
     "output_type": "stream",
     "text": [
      "John\n",
      "William\n"
     ]
    }
   ],
   "source": [
    "name = \"John\"\n",
    "print(name) #printing a string\n",
    "name = \"William\"\n",
    "print(name) "
   ]
  },
  {
   "cell_type": "code",
   "execution_count": 26,
   "metadata": {},
   "outputs": [
    {
     "name": "stdout",
     "output_type": "stream",
     "text": [
      "30\n"
     ]
    }
   ],
   "source": [
    "x = 3 \n",
    "y = 10 \n",
    "result = x * y \n",
    "print (result) "
   ]
  },
  {
   "cell_type": "code",
   "execution_count": 27,
   "metadata": {},
   "outputs": [
    {
     "name": "stdout",
     "output_type": "stream",
     "text": [
      "The area of the circle is: 78.53981633974483\n"
     ]
    }
   ],
   "source": [
    "#area of a circle\n",
    "import math\n",
    "radius = 5\n",
    "area = math.pi * radius ** 2\n",
    "print(\"The area of the circle is:\", area)"
   ]
  },
  {
   "cell_type": "markdown",
   "metadata": {},
   "source": [
    "## Wednesday-formating "
   ]
  },
  {
   "cell_type": "code",
   "execution_count": null,
   "metadata": {},
   "outputs": [],
   "source": []
  },
  {
   "cell_type": "code",
   "execution_count": null,
   "metadata": {},
   "outputs": [],
   "source": [
    "# Calculator for Cmax SS (Maximum Steady-State Concentration)\n",
    "# Assuming first-order kinetics and IV bolus administration\n",
    "\n",
    "# Parameters\n",
    "dose = 500  # Dose in mg\n",
    "clearance = 5  # Clearance in L/h\n",
    "volume_of_distribution = 50  # Volume of distribution in L\n",
    "tau = 12  # Dosing interval in hours\n",
    "\n",
    "# Calculate elimination rate constant (k)\n",
    "k = clearance / volume_of_distribution\n",
    "\n",
    "# Calculate accumulation factor (R)\n",
    "R = 1 / (1 - (2.71828 ** (-k * tau)))\n",
    "\n",
    "# Calculate Cmax SS\n",
    "Cmax_SS = (dose / volume_of_distribution) * R\n",
    "\n",
    "print(f\"The maximum steady-state concentration (Cmax SS) is: {Cmax_SS:.2f} mg/L\")"
   ]
  },
  {
   "cell_type": "code",
   "execution_count": 33,
   "metadata": {},
   "outputs": [
    {
     "name": "stdout",
     "output_type": "stream",
     "text": [
      "Hello, Alice!\n",
      "Alice is 30 years old.\n",
      "Alice is learning on python.\n",
      "Hello, Alice!\n",
      "A\t B\t a\t age\t area\t b\t builtins\t clear_output\t count\t \n",
      "debugpy\t file\t first_name\t guess\t guessed\t guesses\t ipykernel\t last_name\t math\t \n",
      "name\t num1\t num2\t number\t radius\t randint\t result\t sum\t x\t \n",
      "y\t \n"
     ]
    }
   ],
   "source": [
    "# injecting variables into strings\n",
    "name = \"Alice\"\n",
    "print (f\"Hello, {name}!\")\n",
    "age = 30 \n",
    "print (f\"{name} is {age} years old.\")\n",
    "#f-string formatting\n",
    "# or using .format() method \n",
    "print (f\"{name} is learning on python.\")\n",
    "# or using % operator \n",
    "print (\"Hello, %s!\" % name)\n",
    "%who"
   ]
  },
  {
   "cell_type": "code",
   "execution_count": null,
   "metadata": {},
   "outputs": [
    {
     "data": {
      "application/json": {
       "cell": {
        "!": "OSMagics",
        "HTML": "Other",
        "SVG": "Other",
        "bash": "Other",
        "capture": "ExecutionMagics",
        "cmd": "Other",
        "code_wrap": "ExecutionMagics",
        "debug": "ExecutionMagics",
        "file": "Other",
        "html": "DisplayMagics",
        "javascript": "DisplayMagics",
        "js": "DisplayMagics",
        "latex": "DisplayMagics",
        "markdown": "DisplayMagics",
        "perl": "Other",
        "prun": "ExecutionMagics",
        "pypy": "Other",
        "python": "Other",
        "python2": "Other",
        "python3": "Other",
        "ruby": "Other",
        "script": "ScriptMagics",
        "sh": "Other",
        "svg": "DisplayMagics",
        "sx": "OSMagics",
        "system": "OSMagics",
        "time": "ExecutionMagics",
        "timeit": "ExecutionMagics",
        "writefile": "OSMagics"
       },
       "line": {
        "alias": "OSMagics",
        "alias_magic": "BasicMagics",
        "autoawait": "AsyncMagics",
        "autocall": "AutoMagics",
        "automagic": "AutoMagics",
        "autosave": "KernelMagics",
        "bookmark": "OSMagics",
        "cd": "OSMagics",
        "clear": "KernelMagics",
        "cls": "KernelMagics",
        "code_wrap": "ExecutionMagics",
        "colors": "BasicMagics",
        "conda": "PackagingMagics",
        "config": "ConfigMagics",
        "connect_info": "KernelMagics",
        "copy": "Other",
        "ddir": "Other",
        "debug": "ExecutionMagics",
        "dhist": "OSMagics",
        "dirs": "OSMagics",
        "doctest_mode": "BasicMagics",
        "echo": "Other",
        "ed": "Other",
        "edit": "KernelMagics",
        "env": "OSMagics",
        "gui": "BasicMagics",
        "hist": "Other",
        "history": "HistoryMagics",
        "killbgscripts": "ScriptMagics",
        "ldir": "Other",
        "less": "KernelMagics",
        "load": "CodeMagics",
        "load_ext": "ExtensionMagics",
        "loadpy": "CodeMagics",
        "logoff": "LoggingMagics",
        "logon": "LoggingMagics",
        "logstart": "LoggingMagics",
        "logstate": "LoggingMagics",
        "logstop": "LoggingMagics",
        "ls": "Other",
        "lsmagic": "BasicMagics",
        "macro": "ExecutionMagics",
        "magic": "BasicMagics",
        "mamba": "PackagingMagics",
        "matplotlib": "PylabMagics",
        "micromamba": "PackagingMagics",
        "mkdir": "Other",
        "more": "KernelMagics",
        "notebook": "BasicMagics",
        "page": "BasicMagics",
        "pastebin": "CodeMagics",
        "pdb": "ExecutionMagics",
        "pdef": "NamespaceMagics",
        "pdoc": "NamespaceMagics",
        "pfile": "NamespaceMagics",
        "pinfo": "NamespaceMagics",
        "pinfo2": "NamespaceMagics",
        "pip": "PackagingMagics",
        "popd": "OSMagics",
        "pprint": "BasicMagics",
        "precision": "BasicMagics",
        "prun": "ExecutionMagics",
        "psearch": "NamespaceMagics",
        "psource": "NamespaceMagics",
        "pushd": "OSMagics",
        "pwd": "OSMagics",
        "pycat": "OSMagics",
        "pylab": "PylabMagics",
        "qtconsole": "KernelMagics",
        "quickref": "BasicMagics",
        "recall": "HistoryMagics",
        "rehashx": "OSMagics",
        "reload_ext": "ExtensionMagics",
        "ren": "Other",
        "rep": "Other",
        "rerun": "HistoryMagics",
        "reset": "NamespaceMagics",
        "reset_selective": "NamespaceMagics",
        "rmdir": "Other",
        "run": "ExecutionMagics",
        "save": "CodeMagics",
        "sc": "OSMagics",
        "set_env": "OSMagics",
        "store": "StoreMagics",
        "sx": "OSMagics",
        "system": "OSMagics",
        "tb": "ExecutionMagics",
        "time": "ExecutionMagics",
        "timeit": "ExecutionMagics",
        "unalias": "OSMagics",
        "unload_ext": "ExtensionMagics",
        "uv": "PackagingMagics",
        "who": "NamespaceMagics",
        "who_ls": "NamespaceMagics",
        "whos": "NamespaceMagics",
        "xdel": "NamespaceMagics",
        "xmode": "BasicMagics"
       }
      },
      "text/plain": [
       "Available line magics:\n",
       "%alias  %alias_magic  %autoawait  %autocall  %automagic  %autosave  %bookmark  %cd  %clear  %cls  %code_wrap  %colors  %conda  %config  %connect_info  %copy  %ddir  %debug  %dhist  %dirs  %doctest_mode  %echo  %ed  %edit  %env  %gui  %hist  %history  %killbgscripts  %ldir  %less  %load  %load_ext  %loadpy  %logoff  %logon  %logstart  %logstate  %logstop  %ls  %lsmagic  %macro  %magic  %mamba  %matplotlib  %micromamba  %mkdir  %more  %notebook  %page  %pastebin  %pdb  %pdef  %pdoc  %pfile  %pinfo  %pinfo2  %pip  %popd  %pprint  %precision  %prun  %psearch  %psource  %pushd  %pwd  %pycat  %pylab  %qtconsole  %quickref  %recall  %rehashx  %reload_ext  %ren  %rep  %rerun  %reset  %reset_selective  %rmdir  %run  %save  %sc  %set_env  %store  %sx  %system  %tb  %time  %timeit  %unalias  %unload_ext  %uv  %who  %who_ls  %whos  %xdel  %xmode\n",
       "\n",
       "Available cell magics:\n",
       "%%!  %%HTML  %%SVG  %%bash  %%capture  %%cmd  %%code_wrap  %%debug  %%file  %%html  %%javascript  %%js  %%latex  %%markdown  %%perl  %%prun  %%pypy  %%python  %%python2  %%python3  %%ruby  %%script  %%sh  %%svg  %%sx  %%system  %%time  %%timeit  %%writefile\n",
       "\n",
       "Automagic is ON, % prefix IS NOT needed for line magics."
      ]
     },
     "execution_count": 32,
     "metadata": {},
     "output_type": "execute_result"
    }
   ],
   "source": [
    "%lsma\n",
    "gic"
   ]
  },
  {
   "cell_type": "code",
   "execution_count": 2,
   "metadata": {},
   "outputs": [
    {
     "name": "stdout",
     "output_type": "stream",
     "text": [
      "Hello, John what would you like to order today?\n"
     ]
    }
   ],
   "source": [
    "Name = \"John\" \n",
    "print (f\"Hello, {Name} what would you like to order today?\")\n"
   ]
  },
  {
   "cell_type": "code",
   "execution_count": 13,
   "metadata": {},
   "outputs": [
    {
     "name": "stdout",
     "output_type": "stream",
     "text": [
      "h\n",
      "e\n",
      "l\n",
      "l\n",
      "o\n",
      "l\n",
      "ell\n",
      "e\n"
     ]
    }
   ],
   "source": [
    "word = \"hello\"\n",
    "print(word[0]) # prints 'h'\n",
    "print(word[1]) # prints 'e'\n",
    "print(word[2]) # prints 'l'\n",
    "print(word[3]) # prints 'l'\n",
    "print(word[4]) # prints 'o'\n",
    "print (word[-2])\n",
    "print (word [1:4])\n",
    "print (word [-4: 5: 4])"
   ]
  },
  {
   "cell_type": "code",
   "execution_count": 9,
   "metadata": {},
   "outputs": [
    {
     "name": "stdout",
     "output_type": "stream",
     "text": [
      "you can do it! I belive in you\n"
     ]
    }
   ],
   "source": [
    "print(\"you can do it! I belive in you\") "
   ]
  },
  {
   "cell_type": "code",
   "execution_count": 16,
   "metadata": {},
   "outputs": [
    {
     "name": "stdout",
     "output_type": "stream",
     "text": [
      "Ian is playing soccer today\n"
     ]
    }
   ],
   "source": [
    "name = \"Ian\"\n",
    "sport = \"soccer\"\n",
    "print (f\"{name} is playing {sport} today\")"
   ]
  },
  {
   "cell_type": "code",
   "execution_count": 20,
   "metadata": {},
   "outputs": [
    {
     "name": "stdout",
     "output_type": "stream",
     "text": [
      "Ian Williams\n"
     ]
    }
   ],
   "source": [
    "name = \"ian williams\"\n",
    "print (name.title ())"
   ]
  },
  {
   "cell_type": "code",
   "execution_count": 25,
   "metadata": {},
   "outputs": [
    {
     "name": "stdout",
     "output_type": "stream",
     "text": [
      "Hello There.\n"
     ]
    }
   ],
   "source": [
    "words = \"hello there!\" \n",
    "print (words.title().replace(\"!\",\".\"))"
   ]
  },
  {
   "cell_type": "code",
   "execution_count": 26,
   "metadata": {},
   "outputs": [],
   "source": [
    "# Prior examples of using .replace() and .title() \n",
    "# to format strings\n",
    "# and replace characters"
   ]
  },
  {
   "cell_type": "markdown",
   "metadata": {},
   "source": [
    "## Thursday chapter 2 "
   ]
  },
  {
   "cell_type": "code",
   "execution_count": 27,
   "metadata": {},
   "outputs": [
    {
     "name": "stdout",
     "output_type": "stream",
     "text": [
      "4\n"
     ]
    }
   ],
   "source": [
    "# How to Find the starting index of a substring in a string\n",
    "s = \"Hey how you doing, how you been, been a while since I've seen you\"\n",
    "print (s.find(\"how\")) # prints 4"
   ]
  },
  {
   "cell_type": "code",
   "execution_count": 28,
   "metadata": {},
   "outputs": [
    {
     "name": "stdout",
     "output_type": "stream",
     "text": [
      "Ian Williams\n"
     ]
    }
   ],
   "source": [
    "#strip where you wish to remove characters\n",
    "# removing white space with strip. \n",
    "name = \"   Ian Williams   \"\n",
    "print (name.strip()) # prints \"Ian Williams\"\n",
    "# removing characters with strip."
   ]
  },
  {
   "cell_type": "code",
   "execution_count": 29,
   "metadata": {},
   "outputs": [
    {
     "name": "stdout",
     "output_type": "stream",
     "text": [
      "Ian Williams   \n"
     ]
    }
   ],
   "source": [
    "name = \"   Ian Williams   \"\n",
    "print (name.lstrip())"
   ]
  },
  {
   "cell_type": "code",
   "execution_count": 30,
   "metadata": {},
   "outputs": [
    {
     "name": "stdout",
     "output_type": "stream",
     "text": [
      "   Ian Williams\n"
     ]
    }
   ],
   "source": [
    "name = \"   Ian Williams   \"\n",
    "print (name.rstrip())\n",
    "# removing characters with strip."
   ]
  },
  {
   "cell_type": "code",
   "execution_count": 33,
   "metadata": {},
   "outputs": [
    {
     "name": "stdout",
     "output_type": "stream",
     "text": [
      "['Hello,', 'how', 'are', 'you?']\n"
     ]
    }
   ],
   "source": [
    "#split where you wish to split a string into a list of strings\n",
    "s = \"Hello, how are you?\"\n",
    "print (s.split()) # prints ['Hello,', 'how', 'are', 'you?']"
   ]
  },
  {
   "cell_type": "markdown",
   "metadata": {},
   "source": []
  },
  {
   "cell_type": "code",
   "execution_count": 34,
   "metadata": {},
   "outputs": [
    {
     "name": "stdout",
     "output_type": "stream",
     "text": [
      "JOHN    IAN WILLIAMS    HELLO, HOW ARE YOU? SOCCER HELLO\n"
     ]
    }
   ],
   "source": [
    "Name = Name.upper()\n",
    "name = name.upper()\n",
    "s = s.upper()\n",
    "sport = sport.upper()\n",
    "word = word.upper()\n",
    "\n",
    "print(Name, name, s, sport, word)"
   ]
  },
  {
   "cell_type": "code",
   "execution_count": 35,
   "metadata": {},
   "outputs": [
    {
     "name": "stdout",
     "output_type": "stream",
     "text": [
      "SOCCER\n"
     ]
    }
   ],
   "source": [
    "print (sport) "
   ]
  },
  {
   "cell_type": "code",
   "execution_count": 36,
   "metadata": {},
   "outputs": [
    {
     "name": "stdout",
     "output_type": "stream",
     "text": [
      "hello\n"
     ]
    }
   ],
   "source": [
    "print (word.lower())"
   ]
  },
  {
   "cell_type": "code",
   "execution_count": 37,
   "metadata": {},
   "outputs": [
    {
     "name": "stdout",
     "output_type": "stream",
     "text": [
      "john\n"
     ]
    }
   ],
   "source": [
    "Name = \"$$john$$\" \n",
    "print (Name.strip(\"$\")) # prints \"john\""
   ]
  },
  {
   "cell_type": "code",
   "execution_count": null,
   "metadata": {},
   "outputs": [
    {
     "name": "stdout",
     "output_type": "stream",
     "text": [
      "$$JOHN$$\n"
     ]
    }
   ],
   "source": [
    "print (Name.upper())"
   ]
  },
  {
   "cell_type": "code",
   "execution_count": null,
   "metadata": {},
   "outputs": [],
   "source": []
  },
  {
   "cell_type": "markdown",
   "metadata": {},
   "source": [
    "## Friday Project: Printing Receipts"
   ]
  },
  {
   "cell_type": "code",
   "execution_count": 71,
   "metadata": {},
   "outputs": [],
   "source": [
    "# create a profcut and price for three products\n",
    "p1_name, p1_price = \"Video Game\", \"59.99\"\n",
    "p2_name, p2_price = \"Laptop\", \"999.99\"   \n",
    "p3_name, p3_price = \"Headphones\", \"199.99\"\n",
    "# create a list of the products and their prices  \n",
    "company_name = \"Wills Electronics, inc.\"\n",
    "company_adress = \"142 warrigal way.\"  \n",
    "company_city = \"Sydney, Australia\"\n",
    "company_state = \"NSW\"\n",
    "# declare ending message \n",
    "message = \"thank you for shopping with us and supporting Australian businesses.\" \n"
   ]
  },
  {
   "cell_type": "code",
   "execution_count": 72,
   "metadata": {},
   "outputs": [
    {
     "name": "stdout",
     "output_type": "stream",
     "text": [
      "==================================================\n",
      "\t\tWills Electronics, Inc.\n",
      "\t\t142 Warrigal Way.\n",
      "\t\tSydney, Australia\n",
      "\t\tNSW\n"
     ]
    }
   ],
   "source": [
    "#create a top boarder for the receipt\n",
    "top_border = \"=\" * 50\n",
    "print(top_border)\n",
    "print( \"\\t\\t{}\".format( company_name.title()))\n",
    "print( \"\\t\\t{}\".format( company_adress.title()))\n",
    "print( \"\\t\\t{}\".format( company_city.title()))\n",
    "print( \"\\t\\t{}\".format( company_state.upper()))\n"
   ]
  },
  {
   "cell_type": "code",
   "execution_count": 57,
   "metadata": {},
   "outputs": [
    {
     "name": "stdout",
     "output_type": "stream",
     "text": [
      "--------------------------------------------------\n"
     ]
    }
   ],
   "source": [
    "#print between the top and bottom border\n",
    "print ( \"-\" * 50) \n"
   ]
  },
  {
   "cell_type": "code",
   "execution_count": 70,
   "metadata": {},
   "outputs": [
    {
     "name": "stdout",
     "output_type": "stream",
     "text": [
      "\tVideo Game\t\t$59.99\n",
      "\tLaptop\t\t\t$999.99\n",
      "\tHeadphones\t\t$199.99\n"
     ]
    }
   ],
   "source": [
    "print( \"\\t{}\\t\\t${}\".format(p1_name.title(), p1_price))\n",
    "print( \"\\t{}\\t\\t\\t${}\".format(p2_name.title(), p2_price))\n",
    "print( \"\\t{}\\t\\t${}\".format(p3_name.title(), p3_price))\n"
   ]
  },
  {
   "cell_type": "code",
   "execution_count": 56,
   "metadata": {},
   "outputs": [
    {
     "name": "stdout",
     "output_type": "stream",
     "text": [
      "\t\t\tTotal\n"
     ]
    }
   ],
   "source": [
    "print (\"\\t\\t\\tTotal\")"
   ]
  },
  {
   "cell_type": "code",
   "execution_count": 59,
   "metadata": {},
   "outputs": [
    {
     "name": "stdout",
     "output_type": "stream",
     "text": [
      "\t\t\t1259.97\n"
     ]
    }
   ],
   "source": [
    "total = p1_price + p2_price + p3_price\n",
    "print (f\"\\t\\t\\t{total:.2f}\") # prints 1259.97"
   ]
  },
  {
   "cell_type": "code",
   "execution_count": 60,
   "metadata": {},
   "outputs": [
    {
     "name": "stdout",
     "output_type": "stream",
     "text": [
      "==================================================\n"
     ]
    }
   ],
   "source": [
    "print (\"=\" * 50) "
   ]
  },
  {
   "cell_type": "code",
   "execution_count": 65,
   "metadata": {},
   "outputs": [
    {
     "name": "stdout",
     "output_type": "stream",
     "text": [
      "\n",
      "\tThank You For Shopping With Us And Supporting Australian Businesses.\n",
      "\n"
     ]
    }
   ],
   "source": [
    "print (\"\\n\\t{}\\n\".format(message.title())) # prints the message"
   ]
  },
  {
   "cell_type": "markdown",
   "metadata": {},
   "source": [
    "# End of Chater 2 #"
   ]
  },
  {
   "cell_type": "code",
   "execution_count": null,
   "metadata": {},
   "outputs": [],
   "source": []
  },
  {
   "cell_type": "code",
   "execution_count": null,
   "metadata": {},
   "outputs": [
    {
     "name": "stdout",
     "output_type": "stream",
     "text": [
      "Found 78498 prime numbers up to 1000000.\n"
     ]
    }
   ],
   "source": [
    "# Function to check if a number is prime\n",
    "def is_prime(n):\n",
    "    if n < 2:\n",
    "        return False\n",
    "    for i in range(2, int(n**0.5) + 1):\n",
    "        if n % i == 0:\n",
    "            return False\n",
    "    return True\n",
    "\n",
    "# Find all prime numbers in a large range\n",
    "def find_primes(limit):\n",
    "    primes = []\n",
    "    for num in range(2, limit):\n",
    "        if is_prime(num):\n",
    "            primes.append(num)\n",
    "    return primes\n",
    "\n",
    "# Set a large limit to increase CPU usage\n",
    "limit = 1000000  # Adjust this value for more or less CPU usage\n",
    "primes = find_primes(limit)\n",
    "\n",
    "# Print the number of primes found\n",
    "print(f\"Found {len(primes)} prime numbers up to {limit}.\")"
   ]
  },
  {
   "cell_type": "code",
   "execution_count": null,
   "metadata": {},
   "outputs": [],
   "source": []
  },
  {
   "cell_type": "markdown",
   "metadata": {},
   "source": [
    "# Week 2 SSh keys how to make them "
   ]
  },
  {
   "cell_type": "code",
   "execution_count": 77,
   "metadata": {},
   "outputs": [
    {
     "name": "stdout",
     "output_type": "stream",
     "text": [
      "hello\n"
     ]
    }
   ],
   "source": [
    "# how to make ssh keys\n",
    "# 1. Open a terminal on your local machine.\n",
    "# 2. Generate a new SSH key pair by running the following command: \n",
    "print(\"hello\")\n",
    "\n"
   ]
  },
  {
   "cell_type": "markdown",
   "metadata": {},
   "source": [
    "# Chapter 3 "
   ]
  },
  {
   "cell_type": "markdown",
   "metadata": {},
   "source": [
    "## Monday"
   ]
  },
  {
   "cell_type": "code",
   "execution_count": null,
   "metadata": {},
   "outputs": [],
   "source": [
    "element = \"Football\"\n",
    "print(\"{} is my favorite sport\".format(element))"
   ]
  },
  {
   "cell_type": "code",
   "execution_count": null,
   "metadata": {},
   "outputs": [],
   "source": [
    "print(\"hello world\")"
   ]
  },
  {
   "cell_type": "code",
   "execution_count": null,
   "metadata": {},
   "outputs": [],
   "source": [
    "print(\"hello world\")"
   ]
  },
  {
   "cell_type": "code",
   "execution_count": null,
   "metadata": {},
   "outputs": [],
   "source": [
    "print(\"hello world\")"
   ]
  },
  {
   "cell_type": "code",
   "execution_count": null,
   "metadata": {},
   "outputs": [],
   "source": [
    "print"
   ]
  },
  {
   "cell_type": "code",
   "execution_count": 1,
   "metadata": {},
   "outputs": [
    {
     "name": "stdout",
     "output_type": "stream",
     "text": [
      "hello world\n"
     ]
    }
   ],
   "source": [
    "print(\"hello world\")"
   ]
  },
  {
   "cell_type": "markdown",
   "metadata": {},
   "source": [
    "# Chapter 4 Loops and lists "
   ]
  },
  {
   "cell_type": "code",
   "execution_count": 2,
   "metadata": {},
   "outputs": [
    {
     "name": "stdout",
     "output_type": "stream",
     "text": [
      "1\n",
      "2\n",
      "3\n",
      "4\n",
      "5\n",
      "Alice\n",
      "Bob\n",
      "Charlie\n"
     ]
    }
   ],
   "source": [
    "#how to make lists and loops\n",
    "# declare a list of numbers\n",
    "numbers = [1, 2, 3, 4, 5]\n",
    "# loop through the list and print each number\n",
    "for number in numbers:\n",
    "    print(number)\n",
    "# declare a list of names\n",
    "names = [\"Alice\", \"Bob\", \"Charlie\"]\n",
    "# loop through the list and print each name\n",
    "for name in names:\n",
    "    print(name)\n",
    "    "
   ]
  },
  {
   "cell_type": "code",
   "execution_count": 6,
   "metadata": {},
   "outputs": [
    {
     "name": "stdout",
     "output_type": "stream",
     "text": [
      "[10, 5, 35, 64, 59]\n",
      "59\n"
     ]
    }
   ],
   "source": [
    "nums = [10, 5, 35, 64, 59] \n",
    "print (nums)# prints 10\n",
    "print (nums [4])"
   ]
  },
  {
   "cell_type": "code",
   "execution_count": 10,
   "metadata": {},
   "outputs": [
    {
     "name": "stdout",
     "output_type": "stream",
     "text": [
      "[[1, 2, 3], [4, 5, 6], [7, 8, 9]]\n",
      "[7, 8, 9]\n",
      "6\n"
     ]
    }
   ],
   "source": [
    "# lists within lists\n",
    "# declare a list of lists\n",
    "lists = [[1, 2, 3], [4, 5, 6], [7, 8, 9]]\n",
    "# loop through the list of lists and print each sublist\n",
    "print(lists)\n",
    "print(lists[2]) # prints [1, 2, 3]\n",
    "print(lists[1] [2]) # prints 6\n"
   ]
  },
  {
   "cell_type": "code",
   "execution_count": 12,
   "metadata": {},
   "outputs": [
    {
     "name": "stdout",
     "output_type": "stream",
     "text": [
      "[10, 5, 3, 4, 5]\n",
      "[100, 5, 3, 4, 5]\n"
     ]
    }
   ],
   "source": [
    "data = [10,5,3,4,5] \n",
    "print (data) \n",
    "data [0] = 100\n",
    "print (data) "
   ]
  },
  {
   "cell_type": "code",
   "execution_count": 13,
   "metadata": {},
   "outputs": [
    {
     "name": "stdout",
     "output_type": "stream",
     "text": [
      "2036036436672\n"
     ]
    }
   ],
   "source": [
    "a = [5,10]\n",
    "print(id(a))"
   ]
  },
  {
   "cell_type": "code",
   "execution_count": 17,
   "metadata": {},
   "outputs": [
    {
     "name": "stdout",
     "output_type": "stream",
     "text": [
      "a: [5, 10]\t b: [5, 10]\n",
      "Location a[0]: 2035954483568\t Location b[0]: 2035954483568\n",
      "a: [20, 10]\t b: [20, 10]\n"
     ]
    }
   ],
   "source": [
    "# understanding how lists are stored\n",
    "a = [5, 10]\n",
    "b = a\n",
    "print( \"a: {}\\t b: {}\".format(a, b) )\n",
    "print( \"Location a[0]: {}\\t Location b[0]: {}\".format( id(a[0]), id(b[0]) ) )\n",
    "a[0] = 20 # re-declaring the value of a[0] also changes b[0]\n",
    "print( \"a: {}\\t b: {}\".format(a, b) )"
   ]
  },
  {
   "cell_type": "code",
   "execution_count": 18,
   "metadata": {},
   "outputs": [
    {
     "name": "stdout",
     "output_type": "stream",
     "text": [
      "0\n",
      "1\n",
      "2\n",
      "3\n",
      "4\n"
     ]
    }
   ],
   "source": [
    "for i in range(5):\n",
    "    print(i)"
   ]
  },
  {
   "cell_type": "code",
   "execution_count": 21,
   "metadata": {},
   "outputs": [
    {
     "name": "stdout",
     "output_type": "stream",
     "text": [
      "value: 2\n",
      "value: 4\n",
      "value: 6\n",
      "value: 8\n"
     ]
    }
   ],
   "source": [
    "for i in range(2,10,2):\n",
    "    print(\"value: {}\".format(i))"
   ]
  },
  {
   "cell_type": "code",
   "execution_count": 22,
   "metadata": {},
   "outputs": [
    {
     "name": "stdout",
     "output_type": "stream",
     "text": [
      "Value: J\n",
      "Value: o\n",
      "Value: h\n",
      "Value: n\n",
      "Value:  \n",
      "Value: S\n",
      "Value: m\n",
      "Value: i\n",
      "Value: t\n",
      "Value: h\n"
     ]
    }
   ],
   "source": [
    "# printing all characters in a name using the 'in' keyword\n",
    "name = \"John Smith\"\n",
    "for letter in name:\n",
    " print( \"Value: {}\".format(letter) )"
   ]
  },
  {
   "cell_type": "code",
   "execution_count": 24,
   "metadata": {},
   "outputs": [
    {
     "name": "stdout",
     "output_type": "stream",
     "text": [
      "0\n",
      "1\n",
      "2\n",
      "4\n"
     ]
    }
   ],
   "source": [
    "# using the continue statement within a foor loop\n",
    "for num in range(5):\n",
    " if num == 3:continue\n",
    " print(num)"
   ]
  },
  {
   "cell_type": "code",
   "execution_count": 25,
   "metadata": {},
   "outputs": [
    {
     "name": "stdout",
     "output_type": "stream",
     "text": [
      "3\n"
     ]
    }
   ],
   "source": [
    "# checking the number of items within a list\n",
    "nums = [5, 10, 15]\n",
    "length = len(nums) # len() returns an integer\n",
    "print(length)"
   ]
  },
  {
   "cell_type": "code",
   "execution_count": 29,
   "metadata": {},
   "outputs": [],
   "source": [
    "# setting a placeholder using the 'pass' keyword\n",
    "for i in range(5):\n",
    " # TODO: add code to print number\n",
    " pass"
   ]
  },
  {
   "cell_type": "code",
   "execution_count": 33,
   "metadata": {},
   "outputs": [
    {
     "name": "stdout",
     "output_type": "stream",
     "text": [
      "[3, 6, 9, 12, 15, 18, 21, 24, 27, 30, 33, 36, 39, 42, 45, 48, 51, 54, 57, 60, 63, 66, 69, 72, 75, 78, 81, 84, 87, 90, 93, 96, 99]\n"
     ]
    }
   ],
   "source": [
    "#create a list from 1 to 100 divisable by 3 \n",
    "nums = [i for i in range(1, 101) if i % 3 == 0]\n",
    "print(nums) # prints [3, 6, 9, 12, 15, 18, 21, 24, 27, 30, 33, 36, 39, 42, 45, 48, 51, 54, 57, 60, 63, 66, 69, 72, 75, 78, 81, 84, 87, 90, 93, 96, 99]"
   ]
  },
  {
   "cell_type": "code",
   "execution_count": 35,
   "metadata": {},
   "outputs": [
    {
     "name": "stdout",
     "output_type": "stream",
     "text": [
      "i: 0, j: 0\n",
      "i: 0, j: 1\n",
      "i: 0, j: 2\n",
      "i: 0, j: 3\n",
      "i: 0, j: 4\n",
      "i: 1, j: 0\n",
      "i: 1, j: 1\n",
      "i: 1, j: 2\n",
      "i: 1, j: 3\n",
      "i: 1, j: 4\n"
     ]
    }
   ],
   "source": [
    "for i in range(2):\n",
    "    for j in range(5):\n",
    "        print(\"i: {}, j: {}\".format(i, j))\n",
    "# nested for loop"
   ]
  },
  {
   "cell_type": "code",
   "execution_count": 37,
   "metadata": {},
   "outputs": [
    {
     "name": "stdout",
     "output_type": "stream",
     "text": [
      "5 \n",
      " ['ball']\n"
     ]
    }
   ],
   "source": [
    "# using pop to remove items and saving to a variable to use later\n",
    "items = [5, \"ball\", True]\n",
    "items.pop() # by default removes the last item\n",
    "removed_item = items.pop(0) # removes 5 and saves it into the variable\n",
    "print(removed_item, \"\\n\", items)"
   ]
  },
  {
   "cell_type": "code",
   "execution_count": 38,
   "metadata": {},
   "outputs": [
    {
     "name": "stdout",
     "output_type": "stream",
     "text": [
      "[5, 8, 0, 2] [0, 2, 5, 8]\n"
     ]
    }
   ],
   "source": [
    "# using sorted on lists for numerical and alphabetical data\n",
    "nums = [5, 8, 0, 2]\n",
    "sorted_nums = sorted(nums) # save to a new variable to use later\n",
    "print(nums, sorted_nums) # the original list is in tact"
   ]
  },
  {
   "cell_type": "code",
   "execution_count": null,
   "metadata": {},
   "outputs": [],
   "source": []
  },
  {
   "cell_type": "markdown",
   "metadata": {},
   "source": [
    "# chapter 5: Functions \n"
   ]
  },
  {
   "cell_type": "code",
   "execution_count": 60,
   "metadata": {},
   "outputs": [],
   "source": [
    "input = input(\"Enter a number: \") # input is always a string"
   ]
  },
  {
   "cell_type": "code",
   "execution_count": 9,
   "metadata": {},
   "outputs": [],
   "source": [
    "#functions\n",
    "# function to add two numbers\n",
    "def add_numbers(a, b):\n",
    "    return a + b\n",
    "# how many funcitons are in the code\n",
    "def count_functions():\n",
    "    return len([f for f in globals().values() if callable(f)])\n",
    "# function to find the maximum number in a list\n"
   ]
  },
  {
   "cell_type": "code",
   "execution_count": 41,
   "metadata": {},
   "outputs": [],
   "source": [
    "def find_maximum(numbers):\n",
    "    return max(numbers)"
   ]
  },
  {
   "cell_type": "code",
   "execution_count": 42,
   "metadata": {},
   "outputs": [
    {
     "name": "stdout",
     "output_type": "stream",
     "text": [
      "Name: John Smith\n",
      "Age: 45\n",
      "Name: John Smith\n",
      "Age: 45\n"
     ]
    }
   ],
   "source": [
    "# writing your first function\n",
    "def printInfo( ): # defines what the function does when called\n",
    " print(\"Name: John Smith\")\n",
    " print(\"Age: 45\")\n",
    "printInfo( ) # calls the function to run\n",
    "printInfo( ) # calls the function again"
   ]
  },
  {
   "cell_type": "code",
   "execution_count": 47,
   "metadata": {},
   "outputs": [
    {
     "name": "stdout",
     "output_type": "stream",
     "text": [
      "The sum is: 15\n"
     ]
    }
   ],
   "source": [
    "def calc():\n",
    "    x, y = 5, 10\n",
    "    result = x + y\n",
    "    print(\"The sum is:\", result)\n",
    "calc() # calls the function to run"
   ]
  },
  {
   "cell_type": "code",
   "execution_count": null,
   "metadata": {},
   "outputs": [
    {
     "name": "stdout",
     "output_type": "stream",
     "text": [
      "The sum is: 15\n"
     ]
    }
   ],
   "source": []
  },
  {
   "cell_type": "code",
   "execution_count": 51,
   "metadata": {},
   "outputs": [
    {
     "name": "stdout",
     "output_type": "stream",
     "text": [
      "Name: John Smith\n",
      "Name: Jane Doe\n"
     ]
    }
   ],
   "source": [
    "def printName (name): # defines what the function does when called\n",
    "    print(\"Name: {}\".format(name))\n",
    "printName(\"John Smith\") # calls the function to runfile\n",
    "printName(\"Jane Doe\") # calls the function again"
   ]
  },
  {
   "cell_type": "code",
   "execution_count": 57,
   "metadata": {},
   "outputs": [
    {
     "name": "stdout",
     "output_type": "stream",
     "text": [
      "5+10+15=30\n",
      "10+20+30=60\n"
     ]
    }
   ],
   "source": [
    "#multiple parameters within a function\n",
    "def addnums (num1, num2, num3): # defines what the function does when called\n",
    "    result = num1 + num2 + num3 # returns the sum of the three numbers\n",
    "    print(\"{}+{}+{}={}\".format(num1, num2, num3, result)) # prints the result\n",
    "addnums (5, 10, 15) # calls the function to run \n",
    "addnums (10, 20, 30) # calls the function again\n"
   ]
  },
  {
   "cell_type": "code",
   "execution_count": 23,
   "metadata": {},
   "outputs": [
    {
     "name": "stdout",
     "output_type": "stream",
     "text": [
      "Hello John, welcome to the program!\n"
     ]
    }
   ],
   "source": [
    "def PrintName (name): \n",
    "    print(f\"Hello {name}, welcome to the program!\") # prints a greeting message\n",
    "PrintName(\"John\") # calls the function to run\n",
    "          "
   ]
  },
  {
   "cell_type": "code",
   "execution_count": 27,
   "metadata": {},
   "outputs": [
    {
     "name": "stdout",
     "output_type": "stream",
     "text": [
      "4\n",
      "16\n",
      "25\n",
      "100\n",
      "1\n",
      "9\n",
      "36\n"
     ]
    }
   ],
   "source": [
    "numbers1 = [ 2, 4, 5, 10 ]\n",
    "numbers2 = [ 1, 3, 6 ]\n",
    "def squares(nums):\n",
    " for num in nums:\n",
    "  print(num**2)\n",
    "squares(numbers1)\n",
    "squares(numbers2)"
   ]
  },
  {
   "cell_type": "markdown",
   "metadata": {},
   "source": [
    "    "
   ]
  },
  {
   "cell_type": "code",
   "execution_count": 34,
   "metadata": {},
   "outputs": [
    {
     "name": "stdout",
     "output_type": "stream",
     "text": [
      "Happy Birthday to John!\n",
      "Happy Birthday to you!\n",
      "Happy Birthday dear friend!\n"
     ]
    }
   ],
   "source": [
    "def happy_birthday(name):\n",
    "    print(f\"Happy Birthday to {name}!\")\n",
    "    print (\"Happy Birthday to you!\")\n",
    "    print (\"Happy Birthday dear friend!\")\n",
    "happy_birthday(\"John\")"
   ]
  },
  {
   "cell_type": "code",
   "execution_count": null,
   "metadata": {},
   "outputs": [],
   "source": [
    "# Shopping cart implementation\n",
    "shopping_cart = {}\n",
    "\n",
    "def add_item(item, price):\n",
    "    shopping_cart[item] = price\n",
    "    print(f\"Added {item} with price ${price:.2f} to the cart.\")\n",
    "\n",
    "def remove_item(item):\n",
    "    if item in shopping_cart:\n",
    "        del shopping_cart[item]\n",
    "        print(f\"Removed {item} from the cart.\")\n",
    "    else:\n",
    "        print(f\"{item} is not in the cart.\")\n",
    "\n",
    "def change_item(item, new_price):\n",
    "    if item in shopping_cart:\n",
    "        shopping_cart[item] = new_price\n",
    "        print(f\"Updated {item} price to ${new_price:.2f}.\")\n",
    "    else:\n",
    "        print(f\"{item} is not in the cart.\")\n",
    "\n",
    "def view_cart():\n",
    "    if shopping_cart:\n",
    "        print(\"Shopping Cart:\")\n",
    "        for item, price in shopping_cart.items():\n",
    "            print(f\"- {item}: ${price:.2f}\")\n",
    "    else:\n",
    "        print(\"Your shopping cart is empty.\")\n",
    "\n",
    "# Example usage\n",
    "add_item(\"Apple\", 1.5)\n",
    "add_item(\"Banana\", 0.8)\n",
    "view_cart()\n",
    "change_item(\"Apple\", 2.0)\n",
    "remove_item(\"Banana\")\n",
    "view_cart()"
   ]
  },
  {
   "cell_type": "code",
   "execution_count": 42,
   "metadata": {},
   "outputs": [
    {
     "name": "stdout",
     "output_type": "stream",
     "text": [
      "{'name': 'John', 'age': 30, 'city': 'New York'}\n",
      "30\n",
      "None\n"
     ]
    }
   ],
   "source": [
    "#make a dictionary\n",
    "# declare a dictionary with keys and values\n",
    "person = {\n",
    "    \"name\": \"John\",\n",
    "    \"age\": 30,\n",
    "    \"city\": \"New York\"\n",
    "}\n",
    "# print the dictionary\n",
    "print(person) # prints {'name': 'John', 'age': 30, 'city': 'New York'}\n",
    "# access a value using its key\n",
    "print(person[\"age\"])\n",
    "print(person.get(\"hello\"))"
   ]
  },
  {
   "cell_type": "code",
   "execution_count": null,
   "metadata": {},
   "outputs": [],
   "source": [
    "student_grades = {\n",
    "    input(\"Enter student name: \"): input(\"Enter student grade: \")\n",
    "    "
   ]
  },
  {
   "cell_type": "code",
   "execution_count": null,
   "metadata": {},
   "outputs": [
    {
     "name": "stdout",
     "output_type": "stream",
     "text": [
      "good morning, John!\n"
     ]
    }
   ],
   "source": [
    "def greet_with_default(name,greeting=\"Good morning\"):\n",
    "    print(f\"{greeting}, {name}!\")\n",
    "greet_with_default(\"Will\")"
   ]
  },
  {
   "cell_type": "code",
   "execution_count": 81,
   "metadata": {},
   "outputs": [
    {
     "name": "stdout",
     "output_type": "stream",
     "text": [
      "Good afternoon, Will!\n"
     ]
    }
   ],
   "source": [
    "from datetime import datetime\n",
    "def greet_based_on_time(name):\n",
    "    current_hour = datetime.now().hour\n",
    "    if current_hour < 12:\n",
    "        greeting = \"Good morning\"\n",
    "    else:\n",
    "        greeting = \"Good afternoon\"\n",
    "    print(f\"{greeting}, {name}!\")\n",
    "\n",
    "greet_based_on_time(input(\"what is your name? \"))"
   ]
  },
  {
   "cell_type": "code",
   "execution_count": 59,
   "metadata": {},
   "outputs": [
    {
     "name": "stdout",
     "output_type": "stream",
     "text": [
      "The sum of 2 and 3 is: 5\n"
     ]
    }
   ],
   "source": [
    "def add_numbers(a, b):\n",
    "    return a + b\n",
    "input1 = int(input(\"Enter first number: \"))\n",
    "input2 = int(input(\"Enter second number: \"))\n",
    "result = add_numbers(input1, input2)\n",
    "print(f\"The sum of {input1} and {input2} is: {result}\")\n"
   ]
  },
  {
   "cell_type": "code",
   "execution_count": null,
   "metadata": {},
   "outputs": [],
   "source": [
    "#creating a class\n",
    "class Person:\n",
    "    def __init__(self, name, age):\n",
    "        self.name = name\n",
    "        self.age = age\n",
    "\n",
    "    def greet(self):\n",
    "        print(f\"Hello, my name is {self.name} and I am {self.age} years old.\")"
   ]
  },
  {
   "cell_type": "code",
   "execution_count": 4,
   "metadata": {},
   "outputs": [
    {
     "ename": "NameError",
     "evalue": "name 'greet' is not defined",
     "output_type": "error",
     "traceback": [
      "\u001b[1;31m---------------------------------------------------------------------------\u001b[0m",
      "\u001b[1;31mNameError\u001b[0m                                 Traceback (most recent call last)",
      "Cell \u001b[1;32mIn[4], line 1\u001b[0m\n\u001b[1;32m----> 1\u001b[0m \u001b[43mgreet\u001b[49m(\u001b[38;5;28mself\u001b[39m)\n",
      "\u001b[1;31mNameError\u001b[0m: name 'greet' is not defined"
     ]
    }
   ],
   "source": [
    "greet(self)"
   ]
  },
  {
   "cell_type": "code",
   "execution_count": null,
   "metadata": {},
   "outputs": [],
   "source": [
    "class Car( ):\n",
    " pass \n"
   ]
  },
  {
   "cell_type": "code",
   "execution_count": 9,
   "metadata": {},
   "outputs": [
    {
     "name": "stdout",
     "output_type": "stream",
     "text": [
      "<__main__.Car object at 0x000002606618CA90>\n"
     ]
    }
   ],
   "source": [
    "# instantiating an object from a class\n",
    "from tkinter import Variable\n",
    "\n",
    "\n",
    "class Car( ): # parens are optional here\n",
    " pass\n",
    "ford = Car( ) # creates an instance of the Car class and stores it into the variable 'ford'\n",
    "print(ford)"
   ]
  },
  {
   "cell_type": "code",
   "execution_count": null,
   "metadata": {},
   "outputs": [],
   "source": []
  },
  {
   "cell_type": "code",
   "execution_count": null,
   "metadata": {},
   "outputs": [
    {
     "name": "stdout",
     "output_type": "stream",
     "text": [
      "Welcome to Blackjack!\n",
      "Your hand: ['4', '2'], score: 6\n",
      "Dealer's visible card: K\n",
      "Your hand: ['4', '2', '2'], score: 8\n",
      "Dealer's visible card: K\n",
      "Your hand: ['4', '2', '2', '10'], score: 18\n",
      "Dealer's visible card: K\n",
      "Your final hand: ['4', '2', '2', '10'], score: 18\n",
      "Dealer's final hand: ['K', '5', '6'], score: 21\n",
      "You lose!\n"
     ]
    }
   ],
   "source": []
  },
  {
   "cell_type": "markdown",
   "metadata": {},
   "source": []
  },
  {
   "cell_type": "code",
   "execution_count": 22,
   "metadata": {},
   "outputs": [
    {
     "name": "stdout",
     "output_type": "stream",
     "text": [
      "Added John with grade B to the dictionary.\n",
      "Added Will with grade A to the dictionary.\n",
      "{'John': 'B', 'Will': 'A'}\n"
     ]
    }
   ],
   "source": [
    "student_grades = {}  # empty list to store student grades\n",
    "\n",
    "while True:\n",
    "    name = input(\"Enter student name (or 'done' to finish): \")\n",
    "    if name.lower() == \"done\":\n",
    "        break\n",
    "    grade = input(f\"Enter grade for {name}: \")\n",
    "    student_grades[name] = grade\n",
    "    print(f\"Added {name} with grade {grade} to the dictionary.\")\n",
    "\n",
    "print(student_grades)\n",
    "\n",
    "\n",
    "\n"
   ]
  },
  {
   "cell_type": "code",
   "execution_count": null,
   "metadata": {},
   "outputs": [
    {
     "name": "stdout",
     "output_type": "stream",
     "text": [
      "Added Will with grade 87 to the dictionary.\n",
      "Added John 45 with grade  to the dictionary.\n",
      "No grade found for john.\n"
     ]
    },
    {
     "ename": "",
     "evalue": "",
     "output_type": "error",
     "traceback": [
      "\u001b[1;31mThe Kernel crashed while executing code in the current cell or a previous cell. \n",
      "\u001b[1;31mPlease review the code in the cell(s) to identify a possible cause of the failure. \n",
      "\u001b[1;31mClick <a href='https://aka.ms/vscodeJupyterKernelCrash'>here</a> for more info. \n",
      "\u001b[1;31mView Jupyter <a href='command:jupyter.viewOutput'>log</a> for further details."
     ]
    }
   ],
   "source": [
    "# Dictionary to store names and grades\n",
    "student_grades = {}\n",
    "\n",
    "# Collect names and grades\n",
    "while True:\n",
    "    name = input(\"Enter student name (or 'done' to finish): \")\n",
    "    if name.lower() == \"done\":\n",
    "        break\n",
    "    grade = input(f\"Enter grade for {name}: \")\n",
    "    student_grades[name] = grade\n",
    "    print(f\"Added {name} with grade {grade} to the dictionary.\")\n",
    "\n",
    "# Retrieve grade for a specific student\n",
    "search_name = input(\"Enter the name of the student to retrieve their grade: \")\n",
    "if search_name in student_grades:\n",
    "    print(f\"{search_name}'s grade is: {student_grades[search_name]}\")\n",
    "else:\n",
    "    print(f\"No grade found for {search_name}.\")\n",
    "    "
   ]
  },
  {
   "cell_type": "code",
   "execution_count": null,
   "metadata": {},
   "outputs": [],
   "source": [
    "student_grades[\"Alice\"] = \"B\"\n",
    "print(student_grades)"
   ]
  },
  {
   "cell_type": "code",
   "execution_count": 1,
   "metadata": {},
   "outputs": [
    {
     "name": "stdout",
     "output_type": "stream",
     "text": [
      "hello world\n"
     ]
    }
   ],
   "source": [
    "print (\"hello world\")"
   ]
  },
  {
   "cell_type": "code",
   "execution_count": 8,
   "metadata": {},
   "outputs": [
    {
     "ename": "IndentationError",
     "evalue": "unexpected indent (1939666440.py, line 11)",
     "output_type": "error",
     "traceback": [
      "\u001b[1;36m  Cell \u001b[1;32mIn[8], line 11\u001b[1;36m\u001b[0m\n\u001b[1;33m    print(f\"Hello, {name}! Welcome to the program.\")\u001b[0m\n\u001b[1;37m    ^\u001b[0m\n\u001b[1;31mIndentationError\u001b[0m\u001b[1;31m:\u001b[0m unexpected indent\n"
     ]
    }
   ],
   "source": [
    "#is this working?\n",
    "# Function to greet a user\n",
    "def greet_user(name):\n",
    "    input_name = input(\"Please enter your name: \")\n",
    "    if input_name == name:\n",
    "        print(f\"Hello, {name}! Welcome back!\")\n",
    "    else:\n",
    "        print(\"Name does not match. Please try again.\")\n",
    "name = input(\"Enter your name: \")\n",
    "greet_user(name)\n",
    " print(f\"Hello, {name}! Welcome to the program.\")"
   ]
  },
  {
   "cell_type": "code",
   "execution_count": 9,
   "metadata": {},
   "outputs": [
    {
     "name": "stdout",
     "output_type": "stream",
     "text": [
      "Current student grades:\n"
     ]
    }
   ],
   "source": [
    "print(\"Current student grades:\")"
   ]
  },
  {
   "cell_type": "code",
   "execution_count": 25,
   "metadata": {},
   "outputs": [
    {
     "name": "stdout",
     "output_type": "stream",
     "text": [
      "55\n"
     ]
    }
   ],
   "source": [
    "# calculate fibonacci sequence as the nth number using caching\n",
    "#input numbers from 1 to 10 \n",
    "def fibon(n, cache={}):\n",
    "    if n in cache:\n",
    "        return cache[n]\n",
    "    if n <= 1:\n",
    "        return n\n",
    "    result = fibon(n - 1, cache) + fibon(n - 2, cache)\n",
    "    cache[n] = result\n",
    "    return result   \n",
    "print (fibon(10))  # prints 55"
   ]
  },
  {
   "cell_type": "code",
   "execution_count": 13,
   "metadata": {},
   "outputs": [
    {
     "name": "stdout",
     "output_type": "stream",
     "text": [
      "Fibonacci(1) = 1\n",
      "Fibonacci(2) = 1\n",
      "Fibonacci(3) = 2\n",
      "Fibonacci(4) = 3\n",
      "Fibonacci(5) = 5\n",
      "Fibonacci(6) = 8\n",
      "Fibonacci(7) = 13\n",
      "Fibonacci(8) = 21\n",
      "Fibonacci(9) = 34\n",
      "Fibonacci(10) = 55\n"
     ]
    }
   ],
   "source": [
    "# Print Fibonacci sequence from 1 to 10 using caching\n",
    "for i in range(1, 11):\n",
    "    print(f\"Fibonacci({i}) = {fibonacci(i)}\")"
   ]
  },
  {
   "cell_type": "code",
   "execution_count": 26,
   "metadata": {},
   "outputs": [
    {
     "name": "stdout",
     "output_type": "stream",
     "text": [
      "Requirement already satisfied: matplotlib in c:\\users\\wmee0001\\appdata\\local\\anaconda3\\envs\\boot_camp1\\lib\\site-packages (3.10.3)\n",
      "Requirement already satisfied: contourpy>=1.0.1 in c:\\users\\wmee0001\\appdata\\local\\anaconda3\\envs\\boot_camp1\\lib\\site-packages (from matplotlib) (1.3.2)\n",
      "Requirement already satisfied: cycler>=0.10 in c:\\users\\wmee0001\\appdata\\local\\anaconda3\\envs\\boot_camp1\\lib\\site-packages (from matplotlib) (0.12.1)\n",
      "Requirement already satisfied: fonttools>=4.22.0 in c:\\users\\wmee0001\\appdata\\local\\anaconda3\\envs\\boot_camp1\\lib\\site-packages (from matplotlib) (4.58.0)\n",
      "Requirement already satisfied: kiwisolver>=1.3.1 in c:\\users\\wmee0001\\appdata\\local\\anaconda3\\envs\\boot_camp1\\lib\\site-packages (from matplotlib) (1.4.8)\n",
      "Requirement already satisfied: numpy>=1.23 in c:\\users\\wmee0001\\appdata\\local\\anaconda3\\envs\\boot_camp1\\lib\\site-packages (from matplotlib) (2.2.6)\n",
      "Requirement already satisfied: packaging>=20.0 in c:\\users\\wmee0001\\appdata\\local\\anaconda3\\envs\\boot_camp1\\lib\\site-packages (from matplotlib) (24.2)\n",
      "Requirement already satisfied: pillow>=8 in c:\\users\\wmee0001\\appdata\\local\\anaconda3\\envs\\boot_camp1\\lib\\site-packages (from matplotlib) (11.2.1)\n",
      "Requirement already satisfied: pyparsing>=2.3.1 in c:\\users\\wmee0001\\appdata\\local\\anaconda3\\envs\\boot_camp1\\lib\\site-packages (from matplotlib) (3.2.3)\n",
      "Requirement already satisfied: python-dateutil>=2.7 in c:\\users\\wmee0001\\appdata\\local\\anaconda3\\envs\\boot_camp1\\lib\\site-packages (from matplotlib) (2.9.0.post0)\n",
      "Requirement already satisfied: six>=1.5 in c:\\users\\wmee0001\\appdata\\local\\anaconda3\\envs\\boot_camp1\\lib\\site-packages (from python-dateutil>=2.7->matplotlib) (1.16.0)\n",
      "Note: you may need to restart the kernel to use updated packages.\n"
     ]
    }
   ],
   "source": [
    "#create a graph using matplotlib of the fibonacci sequence\n",
    "# Install matplotlib if not already installed\n",
    "\n",
    "\n",
    "# Install matplotlib if not already installed\n",
    "%pip install matplotlib\n",
    "\n",
    "# Import matplotlib for plotting\n",
    "import matplotlib.pyplot as plt\n",
    "# create a fibonacci spiral using matplotlib\n",
    "#print the fibonacci sequence as a spiral\n",
    "def fibonacci_spiral(n):\n",
    "    a, b = 0, 1\n",
    "    x, y = 0, 0\n",
    "    plt.figure(figsize=(8, 8))\n",
    "    for i in range(n):\n",
    "        plt.plot([x, x + b], [y, y], color='blue')\n",
    "        plt.plot([x + b, x + b], [y, y + b], color='blue')\n",
    "        x += b\n",
    "        a, b = b, a + b\n",
    "        y += a\n",
    "    plt.title(\"Fibonacci Spiral\")\n",
    "    plt.axis('equal')\n",
    "    plt.show()  \n"
   ]
  },
  {
   "cell_type": "code",
   "execution_count": null,
   "metadata": {},
   "outputs": [],
   "source": []
  },
  {
   "cell_type": "code",
   "execution_count": null,
   "metadata": {},
   "outputs": [],
   "source": [
    "\n",
    "\n",
    "# Function to draw a Fibonacci spiral\n",
    "def draw_fibonacci_spiral(fibonacci_data):\n",
    "    plt.figure(figsize=(8, 8))\n",
    "    x, y = 0, 0  # Starting point\n",
    "    dx, dy = 1, 0  # Initial direction\n",
    "    for i, fib in enumerate(fibonacci_data):\n",
    "        # Draw an arc for the current Fibonacci number\n",
    "        theta = np.linspace(0, np.pi / 2, 100)  # Quarter-circle\n",
    "        arc_x = x + fib * np.cos(theta) * dx - fib * np.sin(theta) * dy\n",
    "        arc_y = y + fib * np.sin(theta) * dx + fib * np.cos(theta) * dy\n",
    "        plt.plot(arc_x, arc_y, color=\"blue\")\n",
    "\n",
    "        # Update the position and direction for the next arc\n",
    "        x, y = x + fib * dx, y + fib * dy\n",
    "        dx, dy = -dy, dx  # Rotate direction by 90 degrees\n",
    "\n",
    "    plt.axis(\"equal\")\n",
    "    plt.title(\"Fibonacci Spiral\")\n",
    "    plt.show()\n",
    "\n",
    "# Draw the Fibonacci spiral using the existing fibonacci_data\n",
    "draw_fibonacci_spiral(fibonacci_data)"
   ]
  },
  {
   "cell_type": "code",
   "execution_count": null,
   "metadata": {},
   "outputs": [],
   "source": []
  },
  {
   "cell_type": "code",
   "execution_count": null,
   "metadata": {},
   "outputs": [],
   "source": []
  },
  {
   "cell_type": "code",
   "execution_count": 23,
   "metadata": {},
   "outputs": [
    {
     "name": "stderr",
     "output_type": "stream",
     "text": [
      "Exception in Tkinter callback\n",
      "Traceback (most recent call last):\n",
      "  File \"c:\\Users\\wmee0001\\AppData\\Local\\anaconda3\\envs\\boot_camp1\\lib\\tkinter\\__init__.py\", line 1920, in __call__\n",
      "    args = self.subst(*args)\n",
      "  File \"c:\\Users\\wmee0001\\AppData\\Local\\anaconda3\\envs\\boot_camp1\\lib\\tkinter\\__init__.py\", line 1576, in _substitute\n",
      "    def _substitute(self, *args):\n",
      "KeyboardInterrupt\n"
     ]
    },
    {
     "ename": "KeyboardInterrupt",
     "evalue": "",
     "output_type": "error",
     "traceback": [
      "\u001b[1;31m---------------------------------------------------------------------------\u001b[0m",
      "\u001b[1;31mKeyboardInterrupt\u001b[0m                         Traceback (most recent call last)",
      "Cell \u001b[1;32mIn[23], line 70\u001b[0m\n\u001b[0;32m     67\u001b[0m draw_fibonacci_spiral(n)\n\u001b[0;32m     69\u001b[0m \u001b[38;5;66;03m# Keep the window open until it's closed manually\u001b[39;00m\n\u001b[1;32m---> 70\u001b[0m \u001b[43mscreen\u001b[49m\u001b[38;5;241;43m.\u001b[39;49m\u001b[43mmainloop\u001b[49m\u001b[43m(\u001b[49m\u001b[43m)\u001b[49m\n",
      "File \u001b[1;32mc:\\Users\\wmee0001\\AppData\\Local\\anaconda3\\envs\\boot_camp1\\lib\\turtle.py:811\u001b[0m, in \u001b[0;36mTurtleScreenBase.mainloop\u001b[1;34m(self)\u001b[0m\n\u001b[0;32m    798\u001b[0m \u001b[38;5;28;01mdef\u001b[39;00m \u001b[38;5;21mmainloop\u001b[39m(\u001b[38;5;28mself\u001b[39m):\n\u001b[0;32m    799\u001b[0m \u001b[38;5;250m    \u001b[39m\u001b[38;5;124;03m\"\"\"Starts event loop - calling Tkinter's mainloop function.\u001b[39;00m\n\u001b[0;32m    800\u001b[0m \n\u001b[0;32m    801\u001b[0m \u001b[38;5;124;03m    No argument.\u001b[39;00m\n\u001b[1;32m   (...)\u001b[0m\n\u001b[0;32m    809\u001b[0m \n\u001b[0;32m    810\u001b[0m \u001b[38;5;124;03m    \"\"\"\u001b[39;00m\n\u001b[1;32m--> 811\u001b[0m     \u001b[38;5;28;43mself\u001b[39;49m\u001b[38;5;241;43m.\u001b[39;49m\u001b[43mcv\u001b[49m\u001b[38;5;241;43m.\u001b[39;49m\u001b[43mtk\u001b[49m\u001b[38;5;241;43m.\u001b[39;49m\u001b[43mmainloop\u001b[49m\u001b[43m(\u001b[49m\u001b[43m)\u001b[49m\n",
      "\u001b[1;31mKeyboardInterrupt\u001b[0m: "
     ]
    }
   ],
   "source": [
    "import turtle\n",
    "import math\n",
    "\n",
    "# Set up the screen and turtle\n",
    "screen = turtle.Screen()\n",
    "screen.title(\"Fibonacci Spiral\")\n",
    "screen.bgcolor(\"black\")\n",
    "turtle = turtle.Turtle()\n",
    "turtle.speed(0)  # Set speed to fastest\n",
    "turtle.hideturtle()  # Hide the turtle arrow\n",
    "\n",
    "# Function to draw a square\n",
    "def draw_square(side_length):\n",
    "    turtle.color(\"white\")\n",
    "    for _ in range(4):\n",
    "        turtle.forward(side_length)\n",
    "        turtle.left(90)\n",
    "\n",
    "# Function to draw the Fibonacci spiral\n",
    "def draw_fibonacci_spiral(n):\n",
    "    a = 0\n",
    "    b = 1\n",
    "    square_a = a\n",
    "    square_b = b\n",
    "    factor = 20  # Adjust this for the desired size of the spiral\n",
    "\n",
    "    # Draw the first square\n",
    "    draw_square(b * factor)\n",
    "    temp = square_b\n",
    "    square_b = square_b + square_a\n",
    "    square_a = temp\n",
    "\n",
    "    # Draw the rest of the squares and spiral\n",
    "    for i in range(1, n):\n",
    "        turtle.penup()\n",
    "        turtle.backward(square_a * factor)\n",
    "        turtle.right(90)\n",
    "        turtle.pendown()\n",
    "\n",
    "        draw_square(square_b * factor)\n",
    "\n",
    "        temp = square_b\n",
    "        square_b = square_b + square_a\n",
    "        square_a = temp\n",
    "\n",
    "    # Plot the spiral (optional, but can make the spiral visually more prominent)\n",
    "    turtle.penup()\n",
    "    turtle.goto(factor, 0)\n",
    "    turtle.setheading(0)\n",
    "    turtle.pendown()\n",
    "    turtle.color(\"orange\")\n",
    "\n",
    "    for i in range(n):\n",
    "        fdwd = math.pi * b * factor / 2\n",
    "        fdwd /= 90\n",
    "        for j in range(90):\n",
    "            turtle.forward(fdwd)\n",
    "            turtle.left(1)\n",
    "        temp = a\n",
    "        a = b\n",
    "        b = temp + b\n",
    "\n",
    "# Get the number of Fibonacci numbers to use\n",
    "n = int(input(\"Enter the number of Fibonacci numbers: \"))\n",
    "\n",
    "# Draw the spiral\n",
    "draw_fibonacci_spiral(n)\n",
    "\n",
    "# Keep the window open until it's closed manually\n",
    "screen.mainloop()"
   ]
  },
  {
   "cell_type": "code",
   "execution_count": 1,
   "metadata": {},
   "outputs": [
    {
     "data": {
      "text/plain": [
       "<function print>"
      ]
     },
     "execution_count": 1,
     "metadata": {},
     "output_type": "execute_result"
    }
   ],
   "source": [
    "print"
   ]
  },
  {
   "cell_type": "code",
   "execution_count": 2,
   "metadata": {},
   "outputs": [
    {
     "name": "stdout",
     "output_type": "stream",
     "text": [
      "Fibonacci spiral drawn successfully!\n"
     ]
    }
   ],
   "source": [
    "print(\"Fibonacci spiral drawn successfully!\")"
   ]
  },
  {
   "cell_type": "markdown",
   "metadata": {},
   "source": [
    "# Chapter 5 - part 2 "
   ]
  },
  {
   "cell_type": "code",
   "execution_count": 10,
   "metadata": {},
   "outputs": [
    {
     "name": "stdout",
     "output_type": "stream",
     "text": [
      "<class 'tuple'>\n",
      "5\n",
      "True\n",
      "Jess\n"
     ]
    }
   ],
   "source": [
    "# using args parameter to take in a tuple of arbitrary values\n",
    "def outputData(name, *args):\n",
    "\tprint(type(args))\n",
    "\tfor arg in args:\n",
    "\t\tprint(arg)\n",
    "outputData(\"John Smith\", 5, True, \"Jess\")"
   ]
  },
  {
   "cell_type": "code",
   "execution_count": 18,
   "metadata": {},
   "outputs": [
    {
     "name": "stdout",
     "output_type": "stream",
     "text": [
      "John Smith\n",
      "John Paul Smith\n"
     ]
    }
   ],
   "source": [
    "# setting default parameter values\n",
    "def printName(first, last, middle=\"\"):\n",
    "    if middle:\n",
    "        print(\"{} {} {}\".format(first, middle, last))\n",
    "    else:\n",
    "        print(\"{} {}\".format(first, last))\n",
    "printName(\"John\", \"Smith\")\n",
    "printName(\"John\", \"Smith\", \"Paul\") \n",
    "# prints <class 'str'>\n",
    "# using kwargs to take in a dictionary of arbitrary key-value pairs\n",
    "def outputData(name, **kwargs):\n",
    "    print(type(kwargs))\n",
    "    for key, value in kwargs.items():\n",
    "        print(f\"{key}: {value}\")    "
   ]
  },
  {
   "cell_type": "code",
   "execution_count": 19,
   "metadata": {},
   "outputs": [
    {
     "name": "stdout",
     "output_type": "stream",
     "text": [
      "<class 'dict'>\n",
      "John Smith\n",
      "5\n"
     ]
    }
   ],
   "source": [
    "# using kwargs parameter to take in a dictionary of arbitrary values\n",
    "def outputData(**kwargs):\n",
    " print( type(kwargs) )\n",
    " print( kwargs[ \"name\" ] )\n",
    " print( kwargs[ \"num\" ] )\n",
    "outputData(name = \"John Smith\", num = 5, b = True)"
   ]
  },
  {
   "cell_type": "code",
   "execution_count": 55,
   "metadata": {},
   "outputs": [
    {
     "data": {
      "image/png": "[encoded data removed]",
      "text/plain": [
       "<Figure size 1000x500 with 1 Axes>"
      ]
     },
     "metadata": {},
     "output_type": "display_data"
    }
   ],
   "source": [
    "# have python be able to read an Image\n",
    "# python version 3.10 \n",
    "# using GitHub Copilot to write code\n",
    "from PIL import Image\n",
    "from pathlib import Path\n",
    "from matplotlib import pyplot as plt\n",
    "# Ensure Pillow is installed\n",
    "filename = \"image.jpeg\" #Just replaces the name of the image with file name  \n",
    "image_path = Path(r\"\\\\ad.monash.edu\\home\\User050\\wmee0001\\Pictures\") / filename  # Use raw string for Windows UNC path\n",
    "if image_path.exists():\n",
    "    image = Image.open(image_path)\n",
    "    image.show()  # This will open the image in the default image viewer\n",
    "else:\n",
    "    print(f\"Image file {filename} not found in the specified path.\")\n",
    "#gaussian blur\n",
    "from PIL import ImageFilter\n",
    "# Apply Gaussian blur to the image\n",
    "blurred_image = image.filter(ImageFilter.GaussianBlur(radius=7))  \n",
    "blurred_image.show()  # Show the blurred image\n",
    "blurred_image.save(image_path.with_name(\"blurred_\" + filename))  # Save the blurred image with a new name\n",
    "#greyscale histogram from the image\n",
    "#read the greyscale image\n",
    "import numpy as np\n",
    "# convert shades of grey to a histogram\n",
    "# Convert the blurred image to grayscale and then to a numpy array\n",
    "gray_blurred_image = blurred_image.convert(\"L\")\n",
    "image_array = np.array(gray_blurred_image)\n",
    "# Calculate the histogram of pixel values (0-255)\n",
    "histogram, _ = np.histogram(image_array.flatten(), bins=256, range=(0, 255))\n",
    "# Plot the histogram using matplotlib\n",
    "plt.figure(figsize=(10, 5))\n",
    "# Use a colormap to represent shades of grey for each bar\n",
    "colors = [str(i / 255) for i in range(256)]  # grayscale colors from black (0) to white (1)\n",
    "plt.bar(range(256), histogram, color=colors, width=1)\n",
    "plt.title('Grayscale Histogram')\n",
    "plt.xlabel('Pixel Value')\n",
    "plt.ylabel('Frequency')\n",
    "plt.xlim([0, 255])\n",
    "plt.show()\n",
    "\n",
    "\n",
    "\n",
    "\n",
    "\t\n",
    "\n"
   ]
  },
  {
   "cell_type": "code",
   "execution_count": null,
   "metadata": {},
   "outputs": [],
   "source": []
  }
 ],
 "metadata": {
  "kernelspec": {
   "display_name": "Boot_camp1",
   "language": "python",
   "name": "boot_camp1"
  },
  "language_info": {
   "codemirror_mode": {
    "name": "ipython",
    "version": 3
   },
   "file_extension": ".py",
   "mimetype": "text/x-python",
   "name": "python",
   "nbconvert_exporter": "python",
   "pygments_lexer": "ipython3",
   "version": "3.10.16"
  }
 },
 "nbformat": 4,
 "nbformat_minor": 2
}
